{
 "cells": [
  {
   "cell_type": "code",
   "execution_count": 439,
   "id": "813ef26c",
   "metadata": {},
   "outputs": [],
   "source": [
    "import numpy as np\n",
    "import pandas as pd\n",
    "import matplotlib.pyplot as plt"
   ]
  },
  {
   "cell_type": "code",
   "execution_count": 440,
   "id": "8767b221",
   "metadata": {},
   "outputs": [],
   "source": [
    "import warnings\n",
    "warnings.filterwarnings(\"ignore\")"
   ]
  },
  {
   "cell_type": "markdown",
   "id": "a04282e9",
   "metadata": {},
   "source": [
    "## 1. Reading, Preparing, and Visualizing the Data"
   ]
  },
  {
   "cell_type": "code",
   "execution_count": 441,
   "id": "0f7d764f",
   "metadata": {},
   "outputs": [],
   "source": [
    "df = pd.read_csv('Leads.csv')"
   ]
  },
  {
   "cell_type": "code",
   "execution_count": 442,
   "id": "21b276a8",
   "metadata": {},
   "outputs": [
    {
     "data": {
      "text/html": [
       "<div>\n",
       "<style scoped>\n",
       "    .dataframe tbody tr th:only-of-type {\n",
       "        vertical-align: middle;\n",
       "    }\n",
       "\n",
       "    .dataframe tbody tr th {\n",
       "        vertical-align: top;\n",
       "    }\n",
       "\n",
       "    .dataframe thead th {\n",
       "        text-align: right;\n",
       "    }\n",
       "</style>\n",
       "<table border=\"1\" class=\"dataframe\">\n",
       "  <thead>\n",
       "    <tr style=\"text-align: right;\">\n",
       "      <th></th>\n",
       "      <th>Prospect ID</th>\n",
       "      <th>Lead Number</th>\n",
       "      <th>Lead Origin</th>\n",
       "      <th>Lead Source</th>\n",
       "      <th>Do Not Email</th>\n",
       "      <th>Do Not Call</th>\n",
       "      <th>Converted</th>\n",
       "      <th>TotalVisits</th>\n",
       "      <th>Total Time Spent on Website</th>\n",
       "      <th>Page Views Per Visit</th>\n",
       "      <th>...</th>\n",
       "      <th>Get updates on DM Content</th>\n",
       "      <th>Lead Profile</th>\n",
       "      <th>City</th>\n",
       "      <th>Asymmetrique Activity Index</th>\n",
       "      <th>Asymmetrique Profile Index</th>\n",
       "      <th>Asymmetrique Activity Score</th>\n",
       "      <th>Asymmetrique Profile Score</th>\n",
       "      <th>I agree to pay the amount through cheque</th>\n",
       "      <th>A free copy of Mastering The Interview</th>\n",
       "      <th>Last Notable Activity</th>\n",
       "    </tr>\n",
       "  </thead>\n",
       "  <tbody>\n",
       "    <tr>\n",
       "      <th>0</th>\n",
       "      <td>7927b2df-8bba-4d29-b9a2-b6e0beafe620</td>\n",
       "      <td>660737</td>\n",
       "      <td>API</td>\n",
       "      <td>Olark Chat</td>\n",
       "      <td>No</td>\n",
       "      <td>No</td>\n",
       "      <td>0</td>\n",
       "      <td>0.0</td>\n",
       "      <td>0</td>\n",
       "      <td>0.00</td>\n",
       "      <td>...</td>\n",
       "      <td>No</td>\n",
       "      <td>Select</td>\n",
       "      <td>Select</td>\n",
       "      <td>02.Medium</td>\n",
       "      <td>02.Medium</td>\n",
       "      <td>15.0</td>\n",
       "      <td>15.0</td>\n",
       "      <td>No</td>\n",
       "      <td>No</td>\n",
       "      <td>Modified</td>\n",
       "    </tr>\n",
       "    <tr>\n",
       "      <th>1</th>\n",
       "      <td>2a272436-5132-4136-86fa-dcc88c88f482</td>\n",
       "      <td>660728</td>\n",
       "      <td>API</td>\n",
       "      <td>Organic Search</td>\n",
       "      <td>No</td>\n",
       "      <td>No</td>\n",
       "      <td>0</td>\n",
       "      <td>5.0</td>\n",
       "      <td>674</td>\n",
       "      <td>2.50</td>\n",
       "      <td>...</td>\n",
       "      <td>No</td>\n",
       "      <td>Select</td>\n",
       "      <td>Select</td>\n",
       "      <td>02.Medium</td>\n",
       "      <td>02.Medium</td>\n",
       "      <td>15.0</td>\n",
       "      <td>15.0</td>\n",
       "      <td>No</td>\n",
       "      <td>No</td>\n",
       "      <td>Email Opened</td>\n",
       "    </tr>\n",
       "    <tr>\n",
       "      <th>2</th>\n",
       "      <td>8cc8c611-a219-4f35-ad23-fdfd2656bd8a</td>\n",
       "      <td>660727</td>\n",
       "      <td>Landing Page Submission</td>\n",
       "      <td>Direct Traffic</td>\n",
       "      <td>No</td>\n",
       "      <td>No</td>\n",
       "      <td>1</td>\n",
       "      <td>2.0</td>\n",
       "      <td>1532</td>\n",
       "      <td>2.00</td>\n",
       "      <td>...</td>\n",
       "      <td>No</td>\n",
       "      <td>Potential Lead</td>\n",
       "      <td>Mumbai</td>\n",
       "      <td>02.Medium</td>\n",
       "      <td>01.High</td>\n",
       "      <td>14.0</td>\n",
       "      <td>20.0</td>\n",
       "      <td>No</td>\n",
       "      <td>Yes</td>\n",
       "      <td>Email Opened</td>\n",
       "    </tr>\n",
       "    <tr>\n",
       "      <th>3</th>\n",
       "      <td>0cc2df48-7cf4-4e39-9de9-19797f9b38cc</td>\n",
       "      <td>660719</td>\n",
       "      <td>Landing Page Submission</td>\n",
       "      <td>Direct Traffic</td>\n",
       "      <td>No</td>\n",
       "      <td>No</td>\n",
       "      <td>0</td>\n",
       "      <td>1.0</td>\n",
       "      <td>305</td>\n",
       "      <td>1.00</td>\n",
       "      <td>...</td>\n",
       "      <td>No</td>\n",
       "      <td>Select</td>\n",
       "      <td>Mumbai</td>\n",
       "      <td>02.Medium</td>\n",
       "      <td>01.High</td>\n",
       "      <td>13.0</td>\n",
       "      <td>17.0</td>\n",
       "      <td>No</td>\n",
       "      <td>No</td>\n",
       "      <td>Modified</td>\n",
       "    </tr>\n",
       "    <tr>\n",
       "      <th>4</th>\n",
       "      <td>3256f628-e534-4826-9d63-4a8b88782852</td>\n",
       "      <td>660681</td>\n",
       "      <td>Landing Page Submission</td>\n",
       "      <td>Google</td>\n",
       "      <td>No</td>\n",
       "      <td>No</td>\n",
       "      <td>1</td>\n",
       "      <td>2.0</td>\n",
       "      <td>1428</td>\n",
       "      <td>1.00</td>\n",
       "      <td>...</td>\n",
       "      <td>No</td>\n",
       "      <td>Select</td>\n",
       "      <td>Mumbai</td>\n",
       "      <td>02.Medium</td>\n",
       "      <td>01.High</td>\n",
       "      <td>15.0</td>\n",
       "      <td>18.0</td>\n",
       "      <td>No</td>\n",
       "      <td>No</td>\n",
       "      <td>Modified</td>\n",
       "    </tr>\n",
       "    <tr>\n",
       "      <th>...</th>\n",
       "      <td>...</td>\n",
       "      <td>...</td>\n",
       "      <td>...</td>\n",
       "      <td>...</td>\n",
       "      <td>...</td>\n",
       "      <td>...</td>\n",
       "      <td>...</td>\n",
       "      <td>...</td>\n",
       "      <td>...</td>\n",
       "      <td>...</td>\n",
       "      <td>...</td>\n",
       "      <td>...</td>\n",
       "      <td>...</td>\n",
       "      <td>...</td>\n",
       "      <td>...</td>\n",
       "      <td>...</td>\n",
       "      <td>...</td>\n",
       "      <td>...</td>\n",
       "      <td>...</td>\n",
       "      <td>...</td>\n",
       "      <td>...</td>\n",
       "    </tr>\n",
       "    <tr>\n",
       "      <th>9235</th>\n",
       "      <td>19d6451e-fcd6-407c-b83b-48e1af805ea9</td>\n",
       "      <td>579564</td>\n",
       "      <td>Landing Page Submission</td>\n",
       "      <td>Direct Traffic</td>\n",
       "      <td>Yes</td>\n",
       "      <td>No</td>\n",
       "      <td>1</td>\n",
       "      <td>8.0</td>\n",
       "      <td>1845</td>\n",
       "      <td>2.67</td>\n",
       "      <td>...</td>\n",
       "      <td>No</td>\n",
       "      <td>Potential Lead</td>\n",
       "      <td>Mumbai</td>\n",
       "      <td>02.Medium</td>\n",
       "      <td>01.High</td>\n",
       "      <td>15.0</td>\n",
       "      <td>17.0</td>\n",
       "      <td>No</td>\n",
       "      <td>No</td>\n",
       "      <td>Email Marked Spam</td>\n",
       "    </tr>\n",
       "    <tr>\n",
       "      <th>9236</th>\n",
       "      <td>82a7005b-7196-4d56-95ce-a79f937a158d</td>\n",
       "      <td>579546</td>\n",
       "      <td>Landing Page Submission</td>\n",
       "      <td>Direct Traffic</td>\n",
       "      <td>No</td>\n",
       "      <td>No</td>\n",
       "      <td>0</td>\n",
       "      <td>2.0</td>\n",
       "      <td>238</td>\n",
       "      <td>2.00</td>\n",
       "      <td>...</td>\n",
       "      <td>No</td>\n",
       "      <td>Potential Lead</td>\n",
       "      <td>Mumbai</td>\n",
       "      <td>02.Medium</td>\n",
       "      <td>01.High</td>\n",
       "      <td>14.0</td>\n",
       "      <td>19.0</td>\n",
       "      <td>No</td>\n",
       "      <td>Yes</td>\n",
       "      <td>SMS Sent</td>\n",
       "    </tr>\n",
       "    <tr>\n",
       "      <th>9237</th>\n",
       "      <td>aac550fe-a586-452d-8d3c-f1b62c94e02c</td>\n",
       "      <td>579545</td>\n",
       "      <td>Landing Page Submission</td>\n",
       "      <td>Direct Traffic</td>\n",
       "      <td>Yes</td>\n",
       "      <td>No</td>\n",
       "      <td>0</td>\n",
       "      <td>2.0</td>\n",
       "      <td>199</td>\n",
       "      <td>2.00</td>\n",
       "      <td>...</td>\n",
       "      <td>No</td>\n",
       "      <td>Potential Lead</td>\n",
       "      <td>Mumbai</td>\n",
       "      <td>02.Medium</td>\n",
       "      <td>01.High</td>\n",
       "      <td>13.0</td>\n",
       "      <td>20.0</td>\n",
       "      <td>No</td>\n",
       "      <td>Yes</td>\n",
       "      <td>SMS Sent</td>\n",
       "    </tr>\n",
       "    <tr>\n",
       "      <th>9238</th>\n",
       "      <td>5330a7d1-2f2b-4df4-85d6-64ca2f6b95b9</td>\n",
       "      <td>579538</td>\n",
       "      <td>Landing Page Submission</td>\n",
       "      <td>Google</td>\n",
       "      <td>No</td>\n",
       "      <td>No</td>\n",
       "      <td>1</td>\n",
       "      <td>3.0</td>\n",
       "      <td>499</td>\n",
       "      <td>3.00</td>\n",
       "      <td>...</td>\n",
       "      <td>No</td>\n",
       "      <td>NaN</td>\n",
       "      <td>Other Metro Cities</td>\n",
       "      <td>02.Medium</td>\n",
       "      <td>02.Medium</td>\n",
       "      <td>15.0</td>\n",
       "      <td>16.0</td>\n",
       "      <td>No</td>\n",
       "      <td>No</td>\n",
       "      <td>SMS Sent</td>\n",
       "    </tr>\n",
       "    <tr>\n",
       "      <th>9239</th>\n",
       "      <td>571b5c8e-a5b2-4d57-8574-f2ffb06fdeff</td>\n",
       "      <td>579533</td>\n",
       "      <td>Landing Page Submission</td>\n",
       "      <td>Direct Traffic</td>\n",
       "      <td>No</td>\n",
       "      <td>No</td>\n",
       "      <td>1</td>\n",
       "      <td>6.0</td>\n",
       "      <td>1279</td>\n",
       "      <td>3.00</td>\n",
       "      <td>...</td>\n",
       "      <td>No</td>\n",
       "      <td>Potential Lead</td>\n",
       "      <td>Other Cities</td>\n",
       "      <td>02.Medium</td>\n",
       "      <td>01.High</td>\n",
       "      <td>15.0</td>\n",
       "      <td>18.0</td>\n",
       "      <td>No</td>\n",
       "      <td>Yes</td>\n",
       "      <td>Modified</td>\n",
       "    </tr>\n",
       "  </tbody>\n",
       "</table>\n",
       "<p>9240 rows × 37 columns</p>\n",
       "</div>"
      ],
      "text/plain": [
       "                               Prospect ID  Lead Number  \\\n",
       "0     7927b2df-8bba-4d29-b9a2-b6e0beafe620       660737   \n",
       "1     2a272436-5132-4136-86fa-dcc88c88f482       660728   \n",
       "2     8cc8c611-a219-4f35-ad23-fdfd2656bd8a       660727   \n",
       "3     0cc2df48-7cf4-4e39-9de9-19797f9b38cc       660719   \n",
       "4     3256f628-e534-4826-9d63-4a8b88782852       660681   \n",
       "...                                    ...          ...   \n",
       "9235  19d6451e-fcd6-407c-b83b-48e1af805ea9       579564   \n",
       "9236  82a7005b-7196-4d56-95ce-a79f937a158d       579546   \n",
       "9237  aac550fe-a586-452d-8d3c-f1b62c94e02c       579545   \n",
       "9238  5330a7d1-2f2b-4df4-85d6-64ca2f6b95b9       579538   \n",
       "9239  571b5c8e-a5b2-4d57-8574-f2ffb06fdeff       579533   \n",
       "\n",
       "                  Lead Origin     Lead Source Do Not Email Do Not Call  \\\n",
       "0                         API      Olark Chat           No          No   \n",
       "1                         API  Organic Search           No          No   \n",
       "2     Landing Page Submission  Direct Traffic           No          No   \n",
       "3     Landing Page Submission  Direct Traffic           No          No   \n",
       "4     Landing Page Submission          Google           No          No   \n",
       "...                       ...             ...          ...         ...   \n",
       "9235  Landing Page Submission  Direct Traffic          Yes          No   \n",
       "9236  Landing Page Submission  Direct Traffic           No          No   \n",
       "9237  Landing Page Submission  Direct Traffic          Yes          No   \n",
       "9238  Landing Page Submission          Google           No          No   \n",
       "9239  Landing Page Submission  Direct Traffic           No          No   \n",
       "\n",
       "      Converted  TotalVisits  Total Time Spent on Website  \\\n",
       "0             0          0.0                            0   \n",
       "1             0          5.0                          674   \n",
       "2             1          2.0                         1532   \n",
       "3             0          1.0                          305   \n",
       "4             1          2.0                         1428   \n",
       "...         ...          ...                          ...   \n",
       "9235          1          8.0                         1845   \n",
       "9236          0          2.0                          238   \n",
       "9237          0          2.0                          199   \n",
       "9238          1          3.0                          499   \n",
       "9239          1          6.0                         1279   \n",
       "\n",
       "      Page Views Per Visit  ... Get updates on DM Content    Lead Profile  \\\n",
       "0                     0.00  ...                        No          Select   \n",
       "1                     2.50  ...                        No          Select   \n",
       "2                     2.00  ...                        No  Potential Lead   \n",
       "3                     1.00  ...                        No          Select   \n",
       "4                     1.00  ...                        No          Select   \n",
       "...                    ...  ...                       ...             ...   \n",
       "9235                  2.67  ...                        No  Potential Lead   \n",
       "9236                  2.00  ...                        No  Potential Lead   \n",
       "9237                  2.00  ...                        No  Potential Lead   \n",
       "9238                  3.00  ...                        No             NaN   \n",
       "9239                  3.00  ...                        No  Potential Lead   \n",
       "\n",
       "                    City Asymmetrique Activity Index  \\\n",
       "0                 Select                   02.Medium   \n",
       "1                 Select                   02.Medium   \n",
       "2                 Mumbai                   02.Medium   \n",
       "3                 Mumbai                   02.Medium   \n",
       "4                 Mumbai                   02.Medium   \n",
       "...                  ...                         ...   \n",
       "9235              Mumbai                   02.Medium   \n",
       "9236              Mumbai                   02.Medium   \n",
       "9237              Mumbai                   02.Medium   \n",
       "9238  Other Metro Cities                   02.Medium   \n",
       "9239        Other Cities                   02.Medium   \n",
       "\n",
       "     Asymmetrique Profile Index Asymmetrique Activity Score  \\\n",
       "0                     02.Medium                        15.0   \n",
       "1                     02.Medium                        15.0   \n",
       "2                       01.High                        14.0   \n",
       "3                       01.High                        13.0   \n",
       "4                       01.High                        15.0   \n",
       "...                         ...                         ...   \n",
       "9235                    01.High                        15.0   \n",
       "9236                    01.High                        14.0   \n",
       "9237                    01.High                        13.0   \n",
       "9238                  02.Medium                        15.0   \n",
       "9239                    01.High                        15.0   \n",
       "\n",
       "     Asymmetrique Profile Score I agree to pay the amount through cheque  \\\n",
       "0                          15.0                                       No   \n",
       "1                          15.0                                       No   \n",
       "2                          20.0                                       No   \n",
       "3                          17.0                                       No   \n",
       "4                          18.0                                       No   \n",
       "...                         ...                                      ...   \n",
       "9235                       17.0                                       No   \n",
       "9236                       19.0                                       No   \n",
       "9237                       20.0                                       No   \n",
       "9238                       16.0                                       No   \n",
       "9239                       18.0                                       No   \n",
       "\n",
       "     A free copy of Mastering The Interview Last Notable Activity  \n",
       "0                                        No              Modified  \n",
       "1                                        No          Email Opened  \n",
       "2                                       Yes          Email Opened  \n",
       "3                                        No              Modified  \n",
       "4                                        No              Modified  \n",
       "...                                     ...                   ...  \n",
       "9235                                     No     Email Marked Spam  \n",
       "9236                                    Yes              SMS Sent  \n",
       "9237                                    Yes              SMS Sent  \n",
       "9238                                     No              SMS Sent  \n",
       "9239                                    Yes              Modified  \n",
       "\n",
       "[9240 rows x 37 columns]"
      ]
     },
     "execution_count": 442,
     "metadata": {},
     "output_type": "execute_result"
    }
   ],
   "source": [
    "df"
   ]
  },
  {
   "cell_type": "code",
   "execution_count": 573,
   "id": "c6c8c745",
   "metadata": {},
   "outputs": [
    {
     "name": "stdout",
     "output_type": "stream",
     "text": [
      "9074\n",
      "9074\n"
     ]
    }
   ],
   "source": [
    "print(len(df['Lead Number'].unique()))\n",
    "print(len(df['Prospect ID'].unique()))"
   ]
  },
  {
   "cell_type": "markdown",
   "id": "31b3cdc2",
   "metadata": {},
   "source": [
    "### 1.1 Data Cleaning"
   ]
  },
  {
   "cell_type": "code",
   "execution_count": 444,
   "id": "ad06d306",
   "metadata": {},
   "outputs": [
    {
     "data": {
      "text/plain": [
       "02.Medium    2788\n",
       "01.High      2203\n",
       "03.Low         31\n",
       "Name: Asymmetrique Profile Index, dtype: int64"
      ]
     },
     "execution_count": 444,
     "metadata": {},
     "output_type": "execute_result"
    }
   ],
   "source": [
    "df['Asymmetrique Profile Index'].value_counts() # these are not proper formatting"
   ]
  },
  {
   "cell_type": "code",
   "execution_count": 445,
   "id": "e2b5efae",
   "metadata": {},
   "outputs": [],
   "source": [
    "def mapindex(x):\n",
    "    if x == '02.Medium':\n",
    "        return 'Medium'\n",
    "    elif x == '01.High':\n",
    "        return 'High'\n",
    "    elif x == '03.Low':\n",
    "        return 'Low'\n",
    "    else:\n",
    "        return 'NaN' # a function to map appropriate formats"
   ]
  },
  {
   "cell_type": "code",
   "execution_count": 446,
   "id": "425d5742",
   "metadata": {},
   "outputs": [],
   "source": [
    "df['Asymmetrique Profile Index'] = df['Asymmetrique Profile Index'].apply(mapindex)"
   ]
  },
  {
   "cell_type": "code",
   "execution_count": 447,
   "id": "160370e8",
   "metadata": {},
   "outputs": [
    {
     "data": {
      "text/plain": [
       "Prospect ID                                       object\n",
       "Lead Number                                        int64\n",
       "Lead Origin                                       object\n",
       "Lead Source                                       object\n",
       "Do Not Email                                      object\n",
       "Do Not Call                                       object\n",
       "Converted                                          int64\n",
       "TotalVisits                                      float64\n",
       "Total Time Spent on Website                        int64\n",
       "Page Views Per Visit                             float64\n",
       "Last Activity                                     object\n",
       "Country                                           object\n",
       "Specialization                                    object\n",
       "How did you hear about X Education                object\n",
       "What is your current occupation                   object\n",
       "What matters most to you in choosing a course     object\n",
       "Search                                            object\n",
       "Magazine                                          object\n",
       "Newspaper Article                                 object\n",
       "X Education Forums                                object\n",
       "Newspaper                                         object\n",
       "Digital Advertisement                             object\n",
       "Through Recommendations                           object\n",
       "Receive More Updates About Our Courses            object\n",
       "Tags                                              object\n",
       "Lead Quality                                      object\n",
       "Update me on Supply Chain Content                 object\n",
       "Get updates on DM Content                         object\n",
       "Lead Profile                                      object\n",
       "City                                              object\n",
       "Asymmetrique Activity Index                       object\n",
       "Asymmetrique Profile Index                        object\n",
       "Asymmetrique Activity Score                      float64\n",
       "Asymmetrique Profile Score                       float64\n",
       "I agree to pay the amount through cheque          object\n",
       "A free copy of Mastering The Interview            object\n",
       "Last Notable Activity                             object\n",
       "dtype: object"
      ]
     },
     "execution_count": 447,
     "metadata": {},
     "output_type": "execute_result"
    }
   ],
   "source": [
    "df.dtypes"
   ]
  },
  {
   "cell_type": "code",
   "execution_count": 448,
   "id": "84b68218",
   "metadata": {},
   "outputs": [],
   "source": [
    "def vardefiner(df):\n",
    "    lst = df.columns\n",
    "    l = []\n",
    "    l_i = []\n",
    "    l_f = []\n",
    "    l_c = []\n",
    "    l_b = []\n",
    "    for var in lst:\n",
    "        if (len(df[var].unique())<=2):\n",
    "            l_b.append(var)\n",
    "        elif df[var].dtype=='O':\n",
    "            l_c.append(var)\n",
    "        elif df[var].dtype=='float':\n",
    "            l_f.append(var)\n",
    "        else:\n",
    "            l_i.append(var)\n",
    "        \n",
    "    l = [l_b,l_c,l_f,l_i]\n",
    "    return(l)      "
   ]
  },
  {
   "cell_type": "code",
   "execution_count": 449,
   "id": "821910ad",
   "metadata": {},
   "outputs": [],
   "source": [
    "varlist = vardefiner(df) # a function to classify the variables\n",
    "binary_vars = varlist[0]\n",
    "cat_vars = varlist[1]\n",
    "float_vars = varlist[2]\n",
    "int_vars = varlist[3]"
   ]
  },
  {
   "cell_type": "code",
   "execution_count": 450,
   "id": "a669d33a",
   "metadata": {},
   "outputs": [
    {
     "data": {
      "text/html": [
       "<div>\n",
       "<style scoped>\n",
       "    .dataframe tbody tr th:only-of-type {\n",
       "        vertical-align: middle;\n",
       "    }\n",
       "\n",
       "    .dataframe tbody tr th {\n",
       "        vertical-align: top;\n",
       "    }\n",
       "\n",
       "    .dataframe thead th {\n",
       "        text-align: right;\n",
       "    }\n",
       "</style>\n",
       "<table border=\"1\" class=\"dataframe\">\n",
       "  <thead>\n",
       "    <tr style=\"text-align: right;\">\n",
       "      <th></th>\n",
       "      <th>TotalVisits</th>\n",
       "      <th>Page Views Per Visit</th>\n",
       "      <th>Asymmetrique Activity Score</th>\n",
       "      <th>Asymmetrique Profile Score</th>\n",
       "    </tr>\n",
       "  </thead>\n",
       "  <tbody>\n",
       "    <tr>\n",
       "      <th>0</th>\n",
       "      <td>0.0</td>\n",
       "      <td>0.00</td>\n",
       "      <td>15.0</td>\n",
       "      <td>15.0</td>\n",
       "    </tr>\n",
       "    <tr>\n",
       "      <th>1</th>\n",
       "      <td>5.0</td>\n",
       "      <td>2.50</td>\n",
       "      <td>15.0</td>\n",
       "      <td>15.0</td>\n",
       "    </tr>\n",
       "    <tr>\n",
       "      <th>2</th>\n",
       "      <td>2.0</td>\n",
       "      <td>2.00</td>\n",
       "      <td>14.0</td>\n",
       "      <td>20.0</td>\n",
       "    </tr>\n",
       "    <tr>\n",
       "      <th>3</th>\n",
       "      <td>1.0</td>\n",
       "      <td>1.00</td>\n",
       "      <td>13.0</td>\n",
       "      <td>17.0</td>\n",
       "    </tr>\n",
       "    <tr>\n",
       "      <th>4</th>\n",
       "      <td>2.0</td>\n",
       "      <td>1.00</td>\n",
       "      <td>15.0</td>\n",
       "      <td>18.0</td>\n",
       "    </tr>\n",
       "    <tr>\n",
       "      <th>...</th>\n",
       "      <td>...</td>\n",
       "      <td>...</td>\n",
       "      <td>...</td>\n",
       "      <td>...</td>\n",
       "    </tr>\n",
       "    <tr>\n",
       "      <th>9235</th>\n",
       "      <td>8.0</td>\n",
       "      <td>2.67</td>\n",
       "      <td>15.0</td>\n",
       "      <td>17.0</td>\n",
       "    </tr>\n",
       "    <tr>\n",
       "      <th>9236</th>\n",
       "      <td>2.0</td>\n",
       "      <td>2.00</td>\n",
       "      <td>14.0</td>\n",
       "      <td>19.0</td>\n",
       "    </tr>\n",
       "    <tr>\n",
       "      <th>9237</th>\n",
       "      <td>2.0</td>\n",
       "      <td>2.00</td>\n",
       "      <td>13.0</td>\n",
       "      <td>20.0</td>\n",
       "    </tr>\n",
       "    <tr>\n",
       "      <th>9238</th>\n",
       "      <td>3.0</td>\n",
       "      <td>3.00</td>\n",
       "      <td>15.0</td>\n",
       "      <td>16.0</td>\n",
       "    </tr>\n",
       "    <tr>\n",
       "      <th>9239</th>\n",
       "      <td>6.0</td>\n",
       "      <td>3.00</td>\n",
       "      <td>15.0</td>\n",
       "      <td>18.0</td>\n",
       "    </tr>\n",
       "  </tbody>\n",
       "</table>\n",
       "<p>9240 rows × 4 columns</p>\n",
       "</div>"
      ],
      "text/plain": [
       "      TotalVisits  Page Views Per Visit  Asymmetrique Activity Score  \\\n",
       "0             0.0                  0.00                         15.0   \n",
       "1             5.0                  2.50                         15.0   \n",
       "2             2.0                  2.00                         14.0   \n",
       "3             1.0                  1.00                         13.0   \n",
       "4             2.0                  1.00                         15.0   \n",
       "...           ...                   ...                          ...   \n",
       "9235          8.0                  2.67                         15.0   \n",
       "9236          2.0                  2.00                         14.0   \n",
       "9237          2.0                  2.00                         13.0   \n",
       "9238          3.0                  3.00                         15.0   \n",
       "9239          6.0                  3.00                         15.0   \n",
       "\n",
       "      Asymmetrique Profile Score  \n",
       "0                           15.0  \n",
       "1                           15.0  \n",
       "2                           20.0  \n",
       "3                           17.0  \n",
       "4                           18.0  \n",
       "...                          ...  \n",
       "9235                        17.0  \n",
       "9236                        19.0  \n",
       "9237                        20.0  \n",
       "9238                        16.0  \n",
       "9239                        18.0  \n",
       "\n",
       "[9240 rows x 4 columns]"
      ]
     },
     "execution_count": 450,
     "metadata": {},
     "output_type": "execute_result"
    }
   ],
   "source": [
    "df[float_vars]"
   ]
  },
  {
   "cell_type": "code",
   "execution_count": 451,
   "id": "d8c1699e",
   "metadata": {},
   "outputs": [
    {
     "data": {
      "text/plain": [
       "37"
      ]
     },
     "execution_count": 451,
     "metadata": {},
     "output_type": "execute_result"
    }
   ],
   "source": [
    "len(binary_vars+cat_vars+float_vars+int_vars) # total number of columns"
   ]
  },
  {
   "cell_type": "markdown",
   "id": "aa9c0a17",
   "metadata": {},
   "source": []
  },
  {
   "cell_type": "code",
   "execution_count": 452,
   "id": "f1af26ba",
   "metadata": {},
   "outputs": [
    {
     "data": {
      "text/plain": [
       "['Prospect ID',\n",
       " 'Lead Origin',\n",
       " 'Lead Source',\n",
       " 'Last Activity',\n",
       " 'Country',\n",
       " 'Specialization',\n",
       " 'How did you hear about X Education',\n",
       " 'What is your current occupation',\n",
       " 'What matters most to you in choosing a course',\n",
       " 'Tags',\n",
       " 'Lead Quality',\n",
       " 'Lead Profile',\n",
       " 'City',\n",
       " 'Asymmetrique Activity Index',\n",
       " 'Asymmetrique Profile Index',\n",
       " 'Last Notable Activity']"
      ]
     },
     "execution_count": 452,
     "metadata": {},
     "output_type": "execute_result"
    }
   ],
   "source": [
    "cat_vars"
   ]
  },
  {
   "cell_type": "code",
   "execution_count": 453,
   "id": "74ef6623",
   "metadata": {},
   "outputs": [
    {
     "data": {
      "text/plain": [
       "['TotalVisits',\n",
       " 'Page Views Per Visit',\n",
       " 'Asymmetrique Activity Score',\n",
       " 'Asymmetrique Profile Score']"
      ]
     },
     "execution_count": 453,
     "metadata": {},
     "output_type": "execute_result"
    }
   ],
   "source": [
    "float_vars"
   ]
  },
  {
   "cell_type": "code",
   "execution_count": 454,
   "id": "5a5c2890",
   "metadata": {},
   "outputs": [],
   "source": [
    "df['Asymmetrique Activity Index'] = df['Asymmetrique Activity Index'].apply(mapindex)\n",
    "\n",
    "# applying the same formatting appropriation as before"
   ]
  },
  {
   "cell_type": "code",
   "execution_count": 455,
   "id": "9af99485",
   "metadata": {},
   "outputs": [
    {
     "data": {
      "text/html": [
       "<div>\n",
       "<style scoped>\n",
       "    .dataframe tbody tr th:only-of-type {\n",
       "        vertical-align: middle;\n",
       "    }\n",
       "\n",
       "    .dataframe tbody tr th {\n",
       "        vertical-align: top;\n",
       "    }\n",
       "\n",
       "    .dataframe thead th {\n",
       "        text-align: right;\n",
       "    }\n",
       "</style>\n",
       "<table border=\"1\" class=\"dataframe\">\n",
       "  <thead>\n",
       "    <tr style=\"text-align: right;\">\n",
       "      <th></th>\n",
       "      <th>Prospect ID</th>\n",
       "      <th>Lead Origin</th>\n",
       "      <th>Lead Source</th>\n",
       "      <th>Last Activity</th>\n",
       "      <th>Country</th>\n",
       "      <th>Specialization</th>\n",
       "      <th>How did you hear about X Education</th>\n",
       "      <th>What is your current occupation</th>\n",
       "      <th>What matters most to you in choosing a course</th>\n",
       "      <th>Tags</th>\n",
       "      <th>Lead Quality</th>\n",
       "      <th>Lead Profile</th>\n",
       "      <th>City</th>\n",
       "      <th>Asymmetrique Activity Index</th>\n",
       "      <th>Asymmetrique Profile Index</th>\n",
       "      <th>Last Notable Activity</th>\n",
       "    </tr>\n",
       "  </thead>\n",
       "  <tbody>\n",
       "    <tr>\n",
       "      <th>0</th>\n",
       "      <td>7927b2df-8bba-4d29-b9a2-b6e0beafe620</td>\n",
       "      <td>API</td>\n",
       "      <td>Olark Chat</td>\n",
       "      <td>Page Visited on Website</td>\n",
       "      <td>NaN</td>\n",
       "      <td>Select</td>\n",
       "      <td>Select</td>\n",
       "      <td>Unemployed</td>\n",
       "      <td>Better Career Prospects</td>\n",
       "      <td>Interested in other courses</td>\n",
       "      <td>Low in Relevance</td>\n",
       "      <td>Select</td>\n",
       "      <td>Select</td>\n",
       "      <td>Medium</td>\n",
       "      <td>Medium</td>\n",
       "      <td>Modified</td>\n",
       "    </tr>\n",
       "    <tr>\n",
       "      <th>1</th>\n",
       "      <td>2a272436-5132-4136-86fa-dcc88c88f482</td>\n",
       "      <td>API</td>\n",
       "      <td>Organic Search</td>\n",
       "      <td>Email Opened</td>\n",
       "      <td>India</td>\n",
       "      <td>Select</td>\n",
       "      <td>Select</td>\n",
       "      <td>Unemployed</td>\n",
       "      <td>Better Career Prospects</td>\n",
       "      <td>Ringing</td>\n",
       "      <td>NaN</td>\n",
       "      <td>Select</td>\n",
       "      <td>Select</td>\n",
       "      <td>Medium</td>\n",
       "      <td>Medium</td>\n",
       "      <td>Email Opened</td>\n",
       "    </tr>\n",
       "    <tr>\n",
       "      <th>2</th>\n",
       "      <td>8cc8c611-a219-4f35-ad23-fdfd2656bd8a</td>\n",
       "      <td>Landing Page Submission</td>\n",
       "      <td>Direct Traffic</td>\n",
       "      <td>Email Opened</td>\n",
       "      <td>India</td>\n",
       "      <td>Business Administration</td>\n",
       "      <td>Select</td>\n",
       "      <td>Student</td>\n",
       "      <td>Better Career Prospects</td>\n",
       "      <td>Will revert after reading the email</td>\n",
       "      <td>Might be</td>\n",
       "      <td>Potential Lead</td>\n",
       "      <td>Mumbai</td>\n",
       "      <td>Medium</td>\n",
       "      <td>High</td>\n",
       "      <td>Email Opened</td>\n",
       "    </tr>\n",
       "    <tr>\n",
       "      <th>3</th>\n",
       "      <td>0cc2df48-7cf4-4e39-9de9-19797f9b38cc</td>\n",
       "      <td>Landing Page Submission</td>\n",
       "      <td>Direct Traffic</td>\n",
       "      <td>Unreachable</td>\n",
       "      <td>India</td>\n",
       "      <td>Media and Advertising</td>\n",
       "      <td>Word Of Mouth</td>\n",
       "      <td>Unemployed</td>\n",
       "      <td>Better Career Prospects</td>\n",
       "      <td>Ringing</td>\n",
       "      <td>Not Sure</td>\n",
       "      <td>Select</td>\n",
       "      <td>Mumbai</td>\n",
       "      <td>Medium</td>\n",
       "      <td>High</td>\n",
       "      <td>Modified</td>\n",
       "    </tr>\n",
       "    <tr>\n",
       "      <th>4</th>\n",
       "      <td>3256f628-e534-4826-9d63-4a8b88782852</td>\n",
       "      <td>Landing Page Submission</td>\n",
       "      <td>Google</td>\n",
       "      <td>Converted to Lead</td>\n",
       "      <td>India</td>\n",
       "      <td>Select</td>\n",
       "      <td>Other</td>\n",
       "      <td>Unemployed</td>\n",
       "      <td>Better Career Prospects</td>\n",
       "      <td>Will revert after reading the email</td>\n",
       "      <td>Might be</td>\n",
       "      <td>Select</td>\n",
       "      <td>Mumbai</td>\n",
       "      <td>Medium</td>\n",
       "      <td>High</td>\n",
       "      <td>Modified</td>\n",
       "    </tr>\n",
       "    <tr>\n",
       "      <th>...</th>\n",
       "      <td>...</td>\n",
       "      <td>...</td>\n",
       "      <td>...</td>\n",
       "      <td>...</td>\n",
       "      <td>...</td>\n",
       "      <td>...</td>\n",
       "      <td>...</td>\n",
       "      <td>...</td>\n",
       "      <td>...</td>\n",
       "      <td>...</td>\n",
       "      <td>...</td>\n",
       "      <td>...</td>\n",
       "      <td>...</td>\n",
       "      <td>...</td>\n",
       "      <td>...</td>\n",
       "      <td>...</td>\n",
       "    </tr>\n",
       "    <tr>\n",
       "      <th>9235</th>\n",
       "      <td>19d6451e-fcd6-407c-b83b-48e1af805ea9</td>\n",
       "      <td>Landing Page Submission</td>\n",
       "      <td>Direct Traffic</td>\n",
       "      <td>Email Marked Spam</td>\n",
       "      <td>Saudi Arabia</td>\n",
       "      <td>IT Projects Management</td>\n",
       "      <td>Select</td>\n",
       "      <td>Unemployed</td>\n",
       "      <td>Better Career Prospects</td>\n",
       "      <td>Will revert after reading the email</td>\n",
       "      <td>High in Relevance</td>\n",
       "      <td>Potential Lead</td>\n",
       "      <td>Mumbai</td>\n",
       "      <td>Medium</td>\n",
       "      <td>High</td>\n",
       "      <td>Email Marked Spam</td>\n",
       "    </tr>\n",
       "    <tr>\n",
       "      <th>9236</th>\n",
       "      <td>82a7005b-7196-4d56-95ce-a79f937a158d</td>\n",
       "      <td>Landing Page Submission</td>\n",
       "      <td>Direct Traffic</td>\n",
       "      <td>SMS Sent</td>\n",
       "      <td>India</td>\n",
       "      <td>Media and Advertising</td>\n",
       "      <td>Select</td>\n",
       "      <td>Unemployed</td>\n",
       "      <td>Better Career Prospects</td>\n",
       "      <td>wrong number given</td>\n",
       "      <td>Might be</td>\n",
       "      <td>Potential Lead</td>\n",
       "      <td>Mumbai</td>\n",
       "      <td>Medium</td>\n",
       "      <td>High</td>\n",
       "      <td>SMS Sent</td>\n",
       "    </tr>\n",
       "    <tr>\n",
       "      <th>9237</th>\n",
       "      <td>aac550fe-a586-452d-8d3c-f1b62c94e02c</td>\n",
       "      <td>Landing Page Submission</td>\n",
       "      <td>Direct Traffic</td>\n",
       "      <td>SMS Sent</td>\n",
       "      <td>India</td>\n",
       "      <td>Business Administration</td>\n",
       "      <td>Select</td>\n",
       "      <td>Unemployed</td>\n",
       "      <td>Better Career Prospects</td>\n",
       "      <td>invalid number</td>\n",
       "      <td>Not Sure</td>\n",
       "      <td>Potential Lead</td>\n",
       "      <td>Mumbai</td>\n",
       "      <td>Medium</td>\n",
       "      <td>High</td>\n",
       "      <td>SMS Sent</td>\n",
       "    </tr>\n",
       "    <tr>\n",
       "      <th>9238</th>\n",
       "      <td>5330a7d1-2f2b-4df4-85d6-64ca2f6b95b9</td>\n",
       "      <td>Landing Page Submission</td>\n",
       "      <td>Google</td>\n",
       "      <td>SMS Sent</td>\n",
       "      <td>India</td>\n",
       "      <td>Human Resource Management</td>\n",
       "      <td>Online Search</td>\n",
       "      <td>NaN</td>\n",
       "      <td>NaN</td>\n",
       "      <td>NaN</td>\n",
       "      <td>NaN</td>\n",
       "      <td>NaN</td>\n",
       "      <td>Other Metro Cities</td>\n",
       "      <td>Medium</td>\n",
       "      <td>Medium</td>\n",
       "      <td>SMS Sent</td>\n",
       "    </tr>\n",
       "    <tr>\n",
       "      <th>9239</th>\n",
       "      <td>571b5c8e-a5b2-4d57-8574-f2ffb06fdeff</td>\n",
       "      <td>Landing Page Submission</td>\n",
       "      <td>Direct Traffic</td>\n",
       "      <td>SMS Sent</td>\n",
       "      <td>Bangladesh</td>\n",
       "      <td>Supply Chain Management</td>\n",
       "      <td>Select</td>\n",
       "      <td>Unemployed</td>\n",
       "      <td>Better Career Prospects</td>\n",
       "      <td>Will revert after reading the email</td>\n",
       "      <td>Might be</td>\n",
       "      <td>Potential Lead</td>\n",
       "      <td>Other Cities</td>\n",
       "      <td>Medium</td>\n",
       "      <td>High</td>\n",
       "      <td>Modified</td>\n",
       "    </tr>\n",
       "  </tbody>\n",
       "</table>\n",
       "<p>9240 rows × 16 columns</p>\n",
       "</div>"
      ],
      "text/plain": [
       "                               Prospect ID              Lead Origin  \\\n",
       "0     7927b2df-8bba-4d29-b9a2-b6e0beafe620                      API   \n",
       "1     2a272436-5132-4136-86fa-dcc88c88f482                      API   \n",
       "2     8cc8c611-a219-4f35-ad23-fdfd2656bd8a  Landing Page Submission   \n",
       "3     0cc2df48-7cf4-4e39-9de9-19797f9b38cc  Landing Page Submission   \n",
       "4     3256f628-e534-4826-9d63-4a8b88782852  Landing Page Submission   \n",
       "...                                    ...                      ...   \n",
       "9235  19d6451e-fcd6-407c-b83b-48e1af805ea9  Landing Page Submission   \n",
       "9236  82a7005b-7196-4d56-95ce-a79f937a158d  Landing Page Submission   \n",
       "9237  aac550fe-a586-452d-8d3c-f1b62c94e02c  Landing Page Submission   \n",
       "9238  5330a7d1-2f2b-4df4-85d6-64ca2f6b95b9  Landing Page Submission   \n",
       "9239  571b5c8e-a5b2-4d57-8574-f2ffb06fdeff  Landing Page Submission   \n",
       "\n",
       "         Lead Source            Last Activity       Country  \\\n",
       "0         Olark Chat  Page Visited on Website           NaN   \n",
       "1     Organic Search             Email Opened         India   \n",
       "2     Direct Traffic             Email Opened         India   \n",
       "3     Direct Traffic              Unreachable         India   \n",
       "4             Google        Converted to Lead         India   \n",
       "...              ...                      ...           ...   \n",
       "9235  Direct Traffic        Email Marked Spam  Saudi Arabia   \n",
       "9236  Direct Traffic                 SMS Sent         India   \n",
       "9237  Direct Traffic                 SMS Sent         India   \n",
       "9238          Google                 SMS Sent         India   \n",
       "9239  Direct Traffic                 SMS Sent    Bangladesh   \n",
       "\n",
       "                 Specialization How did you hear about X Education  \\\n",
       "0                        Select                             Select   \n",
       "1                        Select                             Select   \n",
       "2       Business Administration                             Select   \n",
       "3         Media and Advertising                      Word Of Mouth   \n",
       "4                        Select                              Other   \n",
       "...                         ...                                ...   \n",
       "9235     IT Projects Management                             Select   \n",
       "9236      Media and Advertising                             Select   \n",
       "9237    Business Administration                             Select   \n",
       "9238  Human Resource Management                      Online Search   \n",
       "9239    Supply Chain Management                             Select   \n",
       "\n",
       "     What is your current occupation  \\\n",
       "0                         Unemployed   \n",
       "1                         Unemployed   \n",
       "2                            Student   \n",
       "3                         Unemployed   \n",
       "4                         Unemployed   \n",
       "...                              ...   \n",
       "9235                      Unemployed   \n",
       "9236                      Unemployed   \n",
       "9237                      Unemployed   \n",
       "9238                             NaN   \n",
       "9239                      Unemployed   \n",
       "\n",
       "     What matters most to you in choosing a course  \\\n",
       "0                          Better Career Prospects   \n",
       "1                          Better Career Prospects   \n",
       "2                          Better Career Prospects   \n",
       "3                          Better Career Prospects   \n",
       "4                          Better Career Prospects   \n",
       "...                                            ...   \n",
       "9235                       Better Career Prospects   \n",
       "9236                       Better Career Prospects   \n",
       "9237                       Better Career Prospects   \n",
       "9238                                           NaN   \n",
       "9239                       Better Career Prospects   \n",
       "\n",
       "                                     Tags       Lead Quality    Lead Profile  \\\n",
       "0             Interested in other courses   Low in Relevance          Select   \n",
       "1                                 Ringing                NaN          Select   \n",
       "2     Will revert after reading the email           Might be  Potential Lead   \n",
       "3                                 Ringing           Not Sure          Select   \n",
       "4     Will revert after reading the email           Might be          Select   \n",
       "...                                   ...                ...             ...   \n",
       "9235  Will revert after reading the email  High in Relevance  Potential Lead   \n",
       "9236                   wrong number given           Might be  Potential Lead   \n",
       "9237                       invalid number           Not Sure  Potential Lead   \n",
       "9238                                  NaN                NaN             NaN   \n",
       "9239  Will revert after reading the email           Might be  Potential Lead   \n",
       "\n",
       "                    City Asymmetrique Activity Index  \\\n",
       "0                 Select                      Medium   \n",
       "1                 Select                      Medium   \n",
       "2                 Mumbai                      Medium   \n",
       "3                 Mumbai                      Medium   \n",
       "4                 Mumbai                      Medium   \n",
       "...                  ...                         ...   \n",
       "9235              Mumbai                      Medium   \n",
       "9236              Mumbai                      Medium   \n",
       "9237              Mumbai                      Medium   \n",
       "9238  Other Metro Cities                      Medium   \n",
       "9239        Other Cities                      Medium   \n",
       "\n",
       "     Asymmetrique Profile Index Last Notable Activity  \n",
       "0                        Medium              Modified  \n",
       "1                        Medium          Email Opened  \n",
       "2                          High          Email Opened  \n",
       "3                          High              Modified  \n",
       "4                          High              Modified  \n",
       "...                         ...                   ...  \n",
       "9235                       High     Email Marked Spam  \n",
       "9236                       High              SMS Sent  \n",
       "9237                       High              SMS Sent  \n",
       "9238                     Medium              SMS Sent  \n",
       "9239                       High              Modified  \n",
       "\n",
       "[9240 rows x 16 columns]"
      ]
     },
     "execution_count": 455,
     "metadata": {},
     "output_type": "execute_result"
    }
   ],
   "source": [
    "df[cat_vars]"
   ]
  },
  {
   "cell_type": "code",
   "execution_count": 456,
   "id": "f87618ae",
   "metadata": {},
   "outputs": [
    {
     "data": {
      "text/plain": [
       "Prospect ID                                         0\n",
       "Lead Number                                         0\n",
       "Lead Origin                                         0\n",
       "Lead Source                                        36\n",
       "Do Not Email                                        0\n",
       "Do Not Call                                         0\n",
       "Converted                                           0\n",
       "TotalVisits                                       137\n",
       "Total Time Spent on Website                         0\n",
       "Page Views Per Visit                              137\n",
       "Last Activity                                     103\n",
       "Country                                          2461\n",
       "Specialization                                   1438\n",
       "How did you hear about X Education               2207\n",
       "What is your current occupation                  2690\n",
       "What matters most to you in choosing a course    2709\n",
       "Search                                              0\n",
       "Magazine                                            0\n",
       "Newspaper Article                                   0\n",
       "X Education Forums                                  0\n",
       "Newspaper                                           0\n",
       "Digital Advertisement                               0\n",
       "Through Recommendations                             0\n",
       "Receive More Updates About Our Courses              0\n",
       "Tags                                             3353\n",
       "Lead Quality                                     4767\n",
       "Update me on Supply Chain Content                   0\n",
       "Get updates on DM Content                           0\n",
       "Lead Profile                                     2709\n",
       "City                                             1420\n",
       "Asymmetrique Activity Index                         0\n",
       "Asymmetrique Profile Index                          0\n",
       "Asymmetrique Activity Score                      4218\n",
       "Asymmetrique Profile Score                       4218\n",
       "I agree to pay the amount through cheque            0\n",
       "A free copy of Mastering The Interview              0\n",
       "Last Notable Activity                               0\n",
       "dtype: int64"
      ]
     },
     "execution_count": 456,
     "metadata": {},
     "output_type": "execute_result"
    }
   ],
   "source": [
    "df.isnull().sum()"
   ]
  },
  {
   "cell_type": "code",
   "execution_count": 457,
   "id": "ba4bc6a9",
   "metadata": {},
   "outputs": [],
   "source": [
    "list3000 = [] # a list to contain columns with more than 3k missing values\n",
    "for var in df.columns:\n",
    "    if df[var].isnull().sum()>= 3000:\n",
    "        list3000.append(var)"
   ]
  },
  {
   "cell_type": "code",
   "execution_count": 458,
   "id": "ad4dc378",
   "metadata": {},
   "outputs": [],
   "source": [
    "for var in list3000:\n",
    "    df.drop(var, axis = 1, inplace = True)"
   ]
  },
  {
   "cell_type": "code",
   "execution_count": 459,
   "id": "82ded5c2",
   "metadata": {},
   "outputs": [],
   "source": [
    "ll = ['City', 'Country'] # we don't need these for analysis\n",
    "for var in ll:\n",
    "    df.drop(var, axis = 1, inplace = True)"
   ]
  },
  {
   "cell_type": "code",
   "execution_count": 460,
   "id": "9ac9e664",
   "metadata": {},
   "outputs": [
    {
     "data": {
      "text/plain": [
       "Prospect ID                                       0.000000\n",
       "Lead Number                                       0.000000\n",
       "Lead Origin                                       0.000000\n",
       "Lead Source                                       0.389610\n",
       "Do Not Email                                      0.000000\n",
       "Do Not Call                                       0.000000\n",
       "Converted                                         0.000000\n",
       "TotalVisits                                       1.482684\n",
       "Total Time Spent on Website                       0.000000\n",
       "Page Views Per Visit                              1.482684\n",
       "Last Activity                                     1.114719\n",
       "Specialization                                   15.562771\n",
       "How did you hear about X Education               23.885281\n",
       "What is your current occupation                  29.112554\n",
       "What matters most to you in choosing a course    29.318182\n",
       "Search                                            0.000000\n",
       "Magazine                                          0.000000\n",
       "Newspaper Article                                 0.000000\n",
       "X Education Forums                                0.000000\n",
       "Newspaper                                         0.000000\n",
       "Digital Advertisement                             0.000000\n",
       "Through Recommendations                           0.000000\n",
       "Receive More Updates About Our Courses            0.000000\n",
       "Update me on Supply Chain Content                 0.000000\n",
       "Get updates on DM Content                         0.000000\n",
       "Lead Profile                                     29.318182\n",
       "Asymmetrique Activity Index                       0.000000\n",
       "Asymmetrique Profile Index                        0.000000\n",
       "I agree to pay the amount through cheque          0.000000\n",
       "A free copy of Mastering The Interview            0.000000\n",
       "Last Notable Activity                             0.000000\n",
       "dtype: float64"
      ]
     },
     "execution_count": 460,
     "metadata": {},
     "output_type": "execute_result"
    }
   ],
   "source": [
    "df.isnull().sum()/df.shape[0]*100 # %of missing values"
   ]
  },
  {
   "cell_type": "code",
   "execution_count": 461,
   "id": "254034cd",
   "metadata": {},
   "outputs": [],
   "source": [
    "varlist = vardefiner(df)\n",
    "binary_vars = varlist[0]\n",
    "cat_vars = varlist[1]\n",
    "float_vars = varlist[2]\n",
    "int_vars = varlist[3]"
   ]
  },
  {
   "cell_type": "code",
   "execution_count": 462,
   "id": "11d775e3",
   "metadata": {},
   "outputs": [
    {
     "name": "stdout",
     "output_type": "stream",
     "text": [
      "Lead Origin ['API' 'Landing Page Submission' 'Lead Add Form' 'Lead Import'\n",
      " 'Quick Add Form']\n",
      "--------------------------------------------------\n",
      "Lead Source ['Olark Chat' 'Organic Search' 'Direct Traffic' 'Google' 'Referral Sites'\n",
      " 'Welingak Website' 'Reference' 'google' 'Facebook' nan 'blog'\n",
      " 'Pay per Click Ads' 'bing' 'Social Media' 'WeLearn' 'Click2call'\n",
      " 'Live Chat' 'welearnblog_Home' 'youtubechannel' 'testone' 'Press_Release'\n",
      " 'NC_EDM']\n",
      "--------------------------------------------------\n",
      "Last Activity ['Page Visited on Website' 'Email Opened' 'Unreachable'\n",
      " 'Converted to Lead' 'Olark Chat Conversation' 'Email Bounced'\n",
      " 'Email Link Clicked' 'Form Submitted on Website' 'Unsubscribed'\n",
      " 'Had a Phone Conversation' 'View in browser link Clicked' nan\n",
      " 'Approached upfront' 'SMS Sent' 'Visited Booth in Tradeshow'\n",
      " 'Resubscribed to emails' 'Email Received' 'Email Marked Spam']\n",
      "--------------------------------------------------\n",
      "Specialization ['Select' 'Business Administration' 'Media and Advertising' nan\n",
      " 'Supply Chain Management' 'IT Projects Management' 'Finance Management'\n",
      " 'Travel and Tourism' 'Human Resource Management' 'Marketing Management'\n",
      " 'Banking, Investment And Insurance' 'International Business' 'E-COMMERCE'\n",
      " 'Operations Management' 'Retail Management' 'Services Excellence'\n",
      " 'Hospitality Management' 'Rural and Agribusiness' 'Healthcare Management'\n",
      " 'E-Business']\n",
      "--------------------------------------------------\n",
      "How did you hear about X Education ['Select' 'Word Of Mouth' 'Other' nan 'Online Search' 'Multiple Sources'\n",
      " 'Advertisements' 'Student of SomeSchool' 'Email' 'Social Media' 'SMS']\n",
      "--------------------------------------------------\n",
      "What is your current occupation ['Unemployed' 'Student' nan 'Working Professional' 'Businessman' 'Other'\n",
      " 'Housewife']\n",
      "--------------------------------------------------\n",
      "What matters most to you in choosing a course ['Better Career Prospects' nan 'Flexibility & Convenience' 'Other']\n",
      "--------------------------------------------------\n",
      "Lead Profile ['Select' 'Potential Lead' nan 'Other Leads' 'Lateral Student'\n",
      " 'Dual Specialization Student' 'Student of SomeSchool']\n",
      "--------------------------------------------------\n",
      "Asymmetrique Activity Index ['Medium' 'High' 'Low' 'NaN']\n",
      "--------------------------------------------------\n",
      "Asymmetrique Profile Index ['Medium' 'High' 'Low' 'NaN']\n",
      "--------------------------------------------------\n",
      "Last Notable Activity ['Modified' 'Email Opened' 'Page Visited on Website' 'Email Bounced'\n",
      " 'Email Link Clicked' 'Unreachable' 'Unsubscribed'\n",
      " 'Had a Phone Conversation' 'Olark Chat Conversation' 'SMS Sent'\n",
      " 'Approached upfront' 'Resubscribed to emails'\n",
      " 'View in browser link Clicked' 'Form Submitted on Website'\n",
      " 'Email Received' 'Email Marked Spam']\n",
      "--------------------------------------------------\n"
     ]
    }
   ],
   "source": [
    "cat_vars.remove('Prospect ID')\n",
    "for var in cat_vars:\n",
    "    print(var, df[var].unique())\n",
    "    print('-'*50) # unique values of the object types"
   ]
  },
  {
   "cell_type": "code",
   "execution_count": 463,
   "id": "71c8bcc2",
   "metadata": {},
   "outputs": [
    {
     "data": {
      "text/plain": [
       "['Lead Origin',\n",
       " 'Lead Source',\n",
       " 'Last Activity',\n",
       " 'Specialization',\n",
       " 'How did you hear about X Education',\n",
       " 'What is your current occupation',\n",
       " 'What matters most to you in choosing a course',\n",
       " 'Lead Profile',\n",
       " 'Asymmetrique Activity Index',\n",
       " 'Asymmetrique Profile Index',\n",
       " 'Last Notable Activity']"
      ]
     },
     "execution_count": 463,
     "metadata": {},
     "output_type": "execute_result"
    }
   ],
   "source": [
    "\n",
    "cat_vars"
   ]
  },
  {
   "cell_type": "code",
   "execution_count": 464,
   "id": "d1774993",
   "metadata": {},
   "outputs": [
    {
     "data": {
      "text/plain": [
       "['Lead Number', 'Total Time Spent on Website']"
      ]
     },
     "execution_count": 464,
     "metadata": {},
     "output_type": "execute_result"
    }
   ],
   "source": [
    "int_vars"
   ]
  },
  {
   "cell_type": "code",
   "execution_count": 465,
   "id": "b62bed5a",
   "metadata": {},
   "outputs": [],
   "source": [
    "df = df.replace('Select', np.nan) # 'Select'= Null\n",
    "df = df.replace('NaN', np.nan)\n",
    "\n",
    "# because these were not selected"
   ]
  },
  {
   "cell_type": "code",
   "execution_count": 466,
   "id": "aea9578a",
   "metadata": {},
   "outputs": [],
   "source": [
    "list15 = []\n",
    "for var in df.columns:\n",
    "    if df[var].isnull().sum()>= df[var].shape[0]*15/100:\n",
    "        list15.append(var)\n",
    "\n",
    "for var in list15:\n",
    "    df.drop(var, axis = 1, inplace = True) # dropping the columns with more than 15% missing values"
   ]
  },
  {
   "cell_type": "code",
   "execution_count": 467,
   "id": "28199857",
   "metadata": {},
   "outputs": [],
   "source": [
    "df = df[~df['Lead Source'].isnull()]\n",
    "df = df[~df['TotalVisits'].isnull()]"
   ]
  },
  {
   "cell_type": "code",
   "execution_count": 468,
   "id": "bf28d53e",
   "metadata": {},
   "outputs": [
    {
     "data": {
      "text/plain": [
       "['TotalVisits', 'Page Views Per Visit']"
      ]
     },
     "execution_count": 468,
     "metadata": {},
     "output_type": "execute_result"
    }
   ],
   "source": [
    "float_vars"
   ]
  },
  {
   "cell_type": "code",
   "execution_count": 469,
   "id": "3941813d",
   "metadata": {},
   "outputs": [
    {
     "name": "stdout",
     "output_type": "stream",
     "text": [
      "Do Not Email 2\n",
      "Do Not Call 2\n",
      "Converted 2\n",
      "Search 2\n",
      "Magazine 1\n",
      "Newspaper Article 2\n",
      "X Education Forums 2\n",
      "Newspaper 2\n",
      "Digital Advertisement 2\n",
      "Through Recommendations 2\n",
      "Receive More Updates About Our Courses 1\n",
      "Update me on Supply Chain Content 1\n",
      "Get updates on DM Content 1\n",
      "I agree to pay the amount through cheque 1\n",
      "A free copy of Mastering The Interview 2\n"
     ]
    }
   ],
   "source": [
    "for var in binary_vars:\n",
    "    print(var, len(df[var].unique()))"
   ]
  },
  {
   "cell_type": "code",
   "execution_count": 470,
   "id": "8f33015c",
   "metadata": {},
   "outputs": [],
   "source": [
    "binary_vars.remove('Converted')"
   ]
  },
  {
   "cell_type": "code",
   "execution_count": 471,
   "id": "da24d394",
   "metadata": {},
   "outputs": [],
   "source": [
    "l = []\n",
    "for var in binary_vars:\n",
    "    if len(df[var].value_counts())==1:\n",
    "        l.append(var)\n",
    "for var in l:\n",
    "    df.drop(var, axis = 1, inplace = True)\n",
    "    binary_vars.remove(var) # removing all the variables with only one level\n",
    "    \n",
    "    # they are of no use to us"
   ]
  },
  {
   "cell_type": "code",
   "execution_count": 472,
   "id": "eea320a9",
   "metadata": {},
   "outputs": [
    {
     "name": "stdout",
     "output_type": "stream",
     "text": [
      "Do Not Email 2\n",
      "Do Not Call 2\n",
      "Search 2\n",
      "Newspaper Article 2\n",
      "X Education Forums 2\n",
      "Newspaper 2\n",
      "Digital Advertisement 2\n",
      "Through Recommendations 2\n",
      "A free copy of Mastering The Interview 2\n"
     ]
    }
   ],
   "source": [
    "for var in binary_vars:\n",
    "    print(var, len(df[var].unique()))"
   ]
  },
  {
   "cell_type": "code",
   "execution_count": 473,
   "id": "585931cd",
   "metadata": {},
   "outputs": [],
   "source": [
    "\n",
    "for var in binary_vars:\n",
    "    df[var] = df[var].apply(lambda x: 1 if x == 'Yes' else 0)\n"
   ]
  },
  {
   "cell_type": "code",
   "execution_count": 474,
   "id": "19b4af17",
   "metadata": {},
   "outputs": [
    {
     "data": {
      "text/plain": [
       "Prospect ID                               0\n",
       "Lead Number                               0\n",
       "Lead Origin                               0\n",
       "Lead Source                               0\n",
       "Do Not Email                              0\n",
       "Do Not Call                               0\n",
       "Converted                                 0\n",
       "TotalVisits                               0\n",
       "Total Time Spent on Website               0\n",
       "Page Views Per Visit                      0\n",
       "Last Activity                             0\n",
       "Search                                    0\n",
       "Newspaper Article                         0\n",
       "X Education Forums                        0\n",
       "Newspaper                                 0\n",
       "Digital Advertisement                     0\n",
       "Through Recommendations                   0\n",
       "A free copy of Mastering The Interview    0\n",
       "Last Notable Activity                     0\n",
       "dtype: int64"
      ]
     },
     "execution_count": 474,
     "metadata": {},
     "output_type": "execute_result"
    }
   ],
   "source": [
    "df.isnull().sum()"
   ]
  },
  {
   "cell_type": "code",
   "execution_count": 475,
   "id": "8d0bb1cb",
   "metadata": {},
   "outputs": [],
   "source": [
    "anlsys = df.copy() # let's save this dataframe for EDA"
   ]
  },
  {
   "cell_type": "markdown",
   "id": "5a79a0c6",
   "metadata": {},
   "source": [
    "## 2. Feature Selection"
   ]
  },
  {
   "cell_type": "code",
   "execution_count": 476,
   "id": "8149b492",
   "metadata": {},
   "outputs": [
    {
     "name": "stdout",
     "output_type": "stream",
     "text": [
      "Prospect ID 9074\n",
      "Lead Source 21\n",
      "Last Activity 17\n",
      "Last Notable Activity 16\n"
     ]
    }
   ],
   "source": [
    "# a list to hold all the categorical variables that we will factorize\n",
    "\n",
    "factorize = [] \n",
    "\n",
    "varlist = vardefiner(df)\n",
    "binary_vars = varlist[0]\n",
    "cat_vars = varlist[1]\n",
    "float_vars = varlist[2]\n",
    "int_vars = varlist[3]\n",
    "\n",
    "\n",
    "for var in cat_vars:\n",
    "    m = len(df[var].unique())\n",
    "    if m>10:\n",
    "            factorize.append(var)\n",
    "            print(var, len(df[var].unique()))"
   ]
  },
  {
   "cell_type": "code",
   "execution_count": 477,
   "id": "a7d2088c",
   "metadata": {},
   "outputs": [],
   "source": [
    "factorize.remove('Prospect ID')"
   ]
  },
  {
   "cell_type": "code",
   "execution_count": 478,
   "id": "f1c182c2",
   "metadata": {},
   "outputs": [],
   "source": [
    "factorized = [] # a list to hold all the factorized variables"
   ]
  },
  {
   "cell_type": "code",
   "execution_count": 479,
   "id": "1f2a9ed6",
   "metadata": {},
   "outputs": [],
   "source": [
    " for var in factorize:\n",
    "    df[var + 'Code'], _ = df[var].factorize()\n",
    "    factorized.append(var + 'Code')"
   ]
  },
  {
   "cell_type": "code",
   "execution_count": 480,
   "id": "8c3afc72",
   "metadata": {},
   "outputs": [
    {
     "name": "stdout",
     "output_type": "stream",
     "text": [
      "['Lead Source', 'Last Activity', 'Last Notable Activity']\n",
      "['Lead SourceCode', 'Last ActivityCode', 'Last Notable ActivityCode']\n"
     ]
    }
   ],
   "source": [
    "print(factorize)\n",
    "print(factorized)"
   ]
  },
  {
   "cell_type": "code",
   "execution_count": 481,
   "id": "5b2df8d7",
   "metadata": {},
   "outputs": [],
   "source": [
    "df_code = df[factorize+factorized].sort_index(ascending=False, axis=1)"
   ]
  },
  {
   "cell_type": "code",
   "execution_count": 482,
   "id": "853152d7",
   "metadata": {},
   "outputs": [
    {
     "data": {
      "text/plain": [
       "MultiIndex([( 0,        'Olark Chat'),\n",
       "            ( 1,    'Organic Search'),\n",
       "            ( 2,    'Direct Traffic'),\n",
       "            ( 3,            'Google'),\n",
       "            ( 4,    'Referral Sites'),\n",
       "            ( 5,         'Reference'),\n",
       "            ( 6,            'google'),\n",
       "            ( 7,  'Welingak Website'),\n",
       "            ( 8,          'Facebook'),\n",
       "            ( 9,              'blog'),\n",
       "            (10, 'Pay per Click Ads'),\n",
       "            (11,              'bing'),\n",
       "            (12,      'Social Media'),\n",
       "            (13,           'WeLearn'),\n",
       "            (14,        'Click2call'),\n",
       "            (15,         'Live Chat'),\n",
       "            (16,  'welearnblog_Home'),\n",
       "            (17,    'youtubechannel'),\n",
       "            (18,           'testone'),\n",
       "            (19,     'Press_Release'),\n",
       "            (20,            'NC_EDM')],\n",
       "           names=['Lead SourceCode', 'Lead Source'])"
      ]
     },
     "execution_count": 482,
     "metadata": {},
     "output_type": "execute_result"
    }
   ],
   "source": [
    "df_cd = df_code.groupby(['Lead SourceCode', 'Lead Source']).first()\n",
    "df_cd.sort_index(ascending=False, axis = 1).index \n",
    "\n",
    "# you can check the codes for the respective variable by changing their names at 1."
   ]
  },
  {
   "cell_type": "code",
   "execution_count": 483,
   "id": "9c33b385",
   "metadata": {},
   "outputs": [],
   "source": [
    "df1 = df.copy()"
   ]
  },
  {
   "cell_type": "code",
   "execution_count": 484,
   "id": "c3fc7dfc",
   "metadata": {},
   "outputs": [],
   "source": [
    "for var in factorize:\n",
    "    df1.drop(var, axis = 1, inplace = True) # we don't want to dummy encode these"
   ]
  },
  {
   "cell_type": "code",
   "execution_count": 485,
   "id": "167f8ae7",
   "metadata": {},
   "outputs": [],
   "source": [
    "# before we calculate the mi score\n",
    "\n",
    "dfx = df1.copy()"
   ]
  },
  {
   "cell_type": "code",
   "execution_count": 486,
   "id": "1023c536",
   "metadata": {},
   "outputs": [],
   "source": [
    "varlist = vardefiner(df1)\n",
    "binary_vars = varlist[0]\n",
    "cat_vars = varlist[1]\n",
    "float_vars = varlist[2]\n",
    "int_vars = varlist[3]"
   ]
  },
  {
   "cell_type": "code",
   "execution_count": 487,
   "id": "246008e3",
   "metadata": {},
   "outputs": [],
   "source": [
    "catfactorized = [] # let's factorize the remaining object types\n",
    "cat_vars.remove('Prospect ID')\n",
    "\n",
    "\n",
    "\n",
    "for var in cat_vars:\n",
    "    df1[var+'Code'], _ = df1[var].factorize()\n",
    "    catfactorized.append(var+'Code')\n",
    "dfz = df1.copy()"
   ]
  },
  {
   "cell_type": "markdown",
   "id": "ad4a17c5",
   "metadata": {},
   "source": [
    "### 2.1 MI scores"
   ]
  },
  {
   "cell_type": "code",
   "execution_count": 488,
   "id": "0a163c83",
   "metadata": {},
   "outputs": [],
   "source": [
    "from sklearn.preprocessing import StandardScaler\n",
    "\n",
    "scaler = StandardScaler() # scaling the data\n",
    "df2 = df1.copy()\n",
    "\n",
    "# fit_transform\n",
    "df2[catfactorized+factorized] = scaler.fit_transform(df2[catfactorized+factorized])\n",
    "binary_vars.remove('Converted')\n",
    "# specifying X and y\n",
    "\n",
    "X = df2[factorized+catfactorized+binary_vars] \n",
    "y = df2['Converted']\n",
    "\n",
    "discrete_features = df2[factorized+catfactorized+binary_vars].dtypes == int"
   ]
  },
  {
   "cell_type": "code",
   "execution_count": 489,
   "id": "1cec3785",
   "metadata": {},
   "outputs": [],
   "source": [
    "from sklearn.feature_selection import mutual_info_regression\n",
    "def make_mi_scores(X, y, discrete_features):\n",
    "    mi_scores = mutual_info_regression(X, y, discrete_features=discrete_features) # mutual info regressor\n",
    "    mi_scores = pd.Series(mi_scores, name=\"MI Scores\", index=X.columns)\n",
    "    mi_scores = mi_scores.sort_values(ascending=False)\n",
    "    return mi_scores"
   ]
  },
  {
   "cell_type": "code",
   "execution_count": 490,
   "id": "cd8e37c9",
   "metadata": {},
   "outputs": [],
   "source": [
    "\n",
    "mi_scores = make_mi_scores(X, y, discrete_features) # calculating mi scores"
   ]
  },
  {
   "cell_type": "code",
   "execution_count": 491,
   "id": "75a67d20",
   "metadata": {},
   "outputs": [],
   "source": [
    "def plot_mi_ca(scores):\n",
    "    scores = scores.sort_values(ascending = True) # mi scores at x axis\n",
    "    width = np.arange(len(scores)) # y axis\n",
    "    ticks = list(scores.index)\n",
    "    plt.barh(width, scores)\n",
    "    plt.yticks(width, ticks)\n",
    "    plt.title('Mutual Info Regressor for Categorical Target')"
   ]
  },
  {
   "cell_type": "code",
   "execution_count": 492,
   "id": "09dc0ff2",
   "metadata": {},
   "outputs": [
    {
     "data": {
      "image/png": "[encoded data removed]",
      "text/plain": [
       "<Figure size 648x648 with 1 Axes>"
      ]
     },
     "metadata": {
      "needs_background": "light"
     },
     "output_type": "display_data"
    }
   ],
   "source": [
    "plt.figure(figsize = (9,9))\n",
    "plot_mi_ca(mi_scores)"
   ]
  },
  {
   "cell_type": "code",
   "execution_count": 493,
   "id": "9e7fa891",
   "metadata": {},
   "outputs": [],
   "source": [
    "indie = mi_scores[mi_scores>0.03].index # selecting an arbitrary cutoff"
   ]
  },
  {
   "cell_type": "code",
   "execution_count": 494,
   "id": "7e622194",
   "metadata": {},
   "outputs": [],
   "source": [
    "indie = list(indie) # preparing a list of variables for the model\n",
    "\n",
    "indie_vars = []\n",
    "\n",
    "for var in indie:\n",
    "    if var in catfactorized:\n",
    "        indie_vars.append(var[:-4]) # we don't want the factorized versions\n",
    "    else:\n",
    "        indie_vars.append(var)\n",
    "        \n",
    "# we are only factorizing variable with more than 10 levels"
   ]
  },
  {
   "cell_type": "code",
   "execution_count": 495,
   "id": "026a1ee0",
   "metadata": {},
   "outputs": [
    {
     "data": {
      "text/plain": [
       "['Last Notable ActivityCode',\n",
       " 'Last ActivityCode',\n",
       " 'Lead SourceCode',\n",
       " 'Lead Origin']"
      ]
     },
     "execution_count": 495,
     "metadata": {},
     "output_type": "execute_result"
    }
   ],
   "source": [
    "indie_vars"
   ]
  },
  {
   "cell_type": "code",
   "execution_count": 496,
   "id": "6ab8560e",
   "metadata": {},
   "outputs": [],
   "source": [
    "\n",
    "\n",
    "for var in catfactorized:\n",
    "    df2.drop(var, axis = 1, inplace = True)\n",
    "    \n",
    "    # we don't need to factorize these variables\n",
    "    # we will dummy encode these insead. "
   ]
  },
  {
   "cell_type": "markdown",
   "id": "66783bc5",
   "metadata": {},
   "source": [
    "### 2.2 RFE scores"
   ]
  },
  {
   "cell_type": "code",
   "execution_count": 497,
   "id": "7a49f69f",
   "metadata": {},
   "outputs": [
    {
     "data": {
      "text/plain": [
       "['Lead Number', 'Total Time Spent on Website']"
      ]
     },
     "execution_count": 497,
     "metadata": {},
     "output_type": "execute_result"
    }
   ],
   "source": [
    "varlist = vardefiner(df2)\n",
    "binary_vars = varlist[0]\n",
    "cat_vars = varlist[1]\n",
    "float_vars = varlist[2]\n",
    "int_vars = varlist[3]\n",
    "int_vars"
   ]
  },
  {
   "cell_type": "code",
   "execution_count": 498,
   "id": "60061274",
   "metadata": {},
   "outputs": [
    {
     "data": {
      "text/plain": [
       "['TotalVisits',\n",
       " 'Page Views Per Visit',\n",
       " 'Lead SourceCode',\n",
       " 'Last ActivityCode',\n",
       " 'Last Notable ActivityCode']"
      ]
     },
     "execution_count": 498,
     "metadata": {},
     "output_type": "execute_result"
    }
   ],
   "source": [
    "float_vars"
   ]
  },
  {
   "cell_type": "code",
   "execution_count": 499,
   "id": "1cb0c8c1",
   "metadata": {},
   "outputs": [],
   "source": [
    "float_vars.remove('Last ActivityCode')\n",
    "float_vars.remove('Last Notable ActivityCode')\n",
    "float_vars.remove('Lead SourceCode')  # these are not numeric types"
   ]
  },
  {
   "cell_type": "code",
   "execution_count": 500,
   "id": "0bda3de4",
   "metadata": {},
   "outputs": [],
   "source": [
    "import sklearn\n",
    "from sklearn.feature_selection import RFE, f_regression\n",
    "from sklearn.linear_model import LogisticRegression\n",
    "from sklearn.preprocessing import MinMaxScaler\n"
   ]
  },
  {
   "cell_type": "code",
   "execution_count": 501,
   "id": "14b5dfb3",
   "metadata": {},
   "outputs": [],
   "source": [
    "lscaler = MinMaxScaler()\n",
    "\n",
    "df[int_vars+float_vars] = lscaler.fit_transform(df[int_vars+float_vars]) # scaling the numeric types"
   ]
  },
  {
   "cell_type": "code",
   "execution_count": 502,
   "id": "137e09ac",
   "metadata": {},
   "outputs": [],
   "source": [
    "X1 = df[int_vars+float_vars]\n",
    "X1.drop('Lead Number', axis = 1, inplace = True)"
   ]
  },
  {
   "cell_type": "code",
   "execution_count": 503,
   "id": "2ca62622",
   "metadata": {},
   "outputs": [
    {
     "name": "stdout",
     "output_type": "stream",
     "text": [
      "Fitting estimator with 3 features.\n"
     ]
    }
   ],
   "source": [
    "lm = LogisticRegression() # specifying the model\n",
    "lm.fit(X1, y)\n",
    "\n",
    "rfe = RFE(estimator = LogisticRegression(), n_features_to_select =2 , verbose =3)             \n",
    "rfe = rfe.fit(X1, y)"
   ]
  },
  {
   "cell_type": "code",
   "execution_count": 504,
   "id": "9e947ea0",
   "metadata": {},
   "outputs": [
    {
     "data": {
      "text/plain": [
       "[('Total Time Spent on Website', True, 1),\n",
       " ('TotalVisits', False, 2),\n",
       " ('Page Views Per Visit', True, 1)]"
      ]
     },
     "execution_count": 504,
     "metadata": {},
     "output_type": "execute_result"
    }
   ],
   "source": [
    "list(zip(X1.columns,rfe.support_,rfe.ranking_)) "
   ]
  },
  {
   "cell_type": "code",
   "execution_count": 505,
   "id": "07891779",
   "metadata": {},
   "outputs": [],
   "source": [
    "col = X1.columns[rfe.support_]  # columns with RFE support"
   ]
  },
  {
   "cell_type": "code",
   "execution_count": 506,
   "id": "fe243cd5",
   "metadata": {},
   "outputs": [
    {
     "data": {
      "text/plain": [
       "Index(['Total Time Spent on Website', 'Page Views Per Visit'], dtype='object')"
      ]
     },
     "execution_count": 506,
     "metadata": {},
     "output_type": "execute_result"
    }
   ],
   "source": [
    "col"
   ]
  },
  {
   "cell_type": "code",
   "execution_count": 507,
   "id": "25733e85",
   "metadata": {},
   "outputs": [],
   "source": [
    "for var in col:\n",
    "    indie_vars.append(var) # appending these variables to the list we want to build the model with"
   ]
  },
  {
   "cell_type": "code",
   "execution_count": 508,
   "id": "760be660",
   "metadata": {},
   "outputs": [
    {
     "data": {
      "text/plain": [
       "['Last Notable ActivityCode',\n",
       " 'Last ActivityCode',\n",
       " 'Lead SourceCode',\n",
       " 'Lead Origin',\n",
       " 'Total Time Spent on Website',\n",
       " 'Page Views Per Visit']"
      ]
     },
     "execution_count": 508,
     "metadata": {},
     "output_type": "execute_result"
    }
   ],
   "source": [
    "\n",
    "indie_vars"
   ]
  },
  {
   "cell_type": "markdown",
   "id": "e3451e1e",
   "metadata": {},
   "source": [
    "### 1.2 Visualizations"
   ]
  },
  {
   "cell_type": "code",
   "execution_count": 509,
   "id": "a2a3695f",
   "metadata": {},
   "outputs": [],
   "source": [
    "indie_vars = list(set(indie_vars)) # we only want the unique ones"
   ]
  },
  {
   "cell_type": "code",
   "execution_count": 510,
   "id": "d41ec6d5",
   "metadata": {},
   "outputs": [],
   "source": [
    "df_a = anlsys[['Page Views Per Visit', 'Last Notable Activity', 'Lead Source', 'Lead Origin', 'Last Activity', 'Total Time Spent on Website', 'Converted']]"
   ]
  },
  {
   "cell_type": "code",
   "execution_count": 511,
   "id": "8ebbd3e3",
   "metadata": {},
   "outputs": [],
   "source": [
    "import matplotlib.pyplot as plt\n",
    "import seaborn as sns"
   ]
  },
  {
   "cell_type": "code",
   "execution_count": 512,
   "id": "854a09b0",
   "metadata": {},
   "outputs": [
    {
     "data": {
      "image/png": "[encoded data removed]",
      "text/plain": [
       "<Figure size 432x288 with 1 Axes>"
      ]
     },
     "metadata": {
      "needs_background": "light"
     },
     "output_type": "display_data"
    }
   ],
   "source": [
    "plt.scatter(df_a['Page Views Per Visit'], df_a['Total Time Spent on Website'])\n",
    "plt.show()\n",
    "\n",
    "\n",
    "# most people spending a lot of time on the website don't visit more than 10 pages per visit"
   ]
  },
  {
   "cell_type": "code",
   "execution_count": 513,
   "id": "522b1970",
   "metadata": {},
   "outputs": [
    {
     "data": {
      "image/png": "[encoded data removed]",
      "text/plain": [
       "<Figure size 576x288 with 1 Axes>"
      ]
     },
     "metadata": {
      "needs_background": "light"
     },
     "output_type": "display_data"
    }
   ],
   "source": [
    "plt.figure(figsize=(8,4))\n",
    "sns.barplot(data=df_a, x=\"Converted\", y=\"Page Views Per Visit\", estimator=np.sum)\n",
    "plt.xticks(rotation=45)\n",
    "plt.show()\n",
    "\n",
    "# target people visit less number of pages per visit"
   ]
  },
  {
   "cell_type": "code",
   "execution_count": 514,
   "id": "93d239be",
   "metadata": {},
   "outputs": [
    {
     "data": {
      "image/png": "[encoded data removed]",
      "text/plain": [
       "<Figure size 576x288 with 1 Axes>"
      ]
     },
     "metadata": {
      "needs_background": "light"
     },
     "output_type": "display_data"
    }
   ],
   "source": [
    "plt.figure(figsize=(8,4))\n",
    "sns.barplot(data=df_a, x=\"Converted\", y=\"Total Time Spent on Website\", estimator=np.sum)\n",
    "plt.xticks(rotation=45)\n",
    "plt.show()\n",
    "\n",
    "# target people spend more time on the website"
   ]
  },
  {
   "cell_type": "code",
   "execution_count": 515,
   "id": "38ee1fd5",
   "metadata": {},
   "outputs": [
    {
     "data": {
      "image/png": "[encoded data removed]",
      "text/plain": [
       "<Figure size 648x504 with 1 Axes>"
      ]
     },
     "metadata": {
      "needs_background": "light"
     },
     "output_type": "display_data"
    }
   ],
   "source": [
    "plt.figure(figsize=[9,7])\n",
    "sns.boxplot(df['Converted'], df['Total Time Spent on Website'])\n",
    "plt.show()\n",
    "\n",
    "# there are a group of people who spend a lot of time, but do not opt for the course"
   ]
  },
  {
   "cell_type": "code",
   "execution_count": 516,
   "id": "e1bebe8e",
   "metadata": {},
   "outputs": [
    {
     "data": {
      "text/plain": [
       "count    9074.000000\n",
       "mean        2.370151\n",
       "std         2.160871\n",
       "min         0.000000\n",
       "25%         1.000000\n",
       "50%         2.000000\n",
       "75%         3.200000\n",
       "max        55.000000\n",
       "Name: Page Views Per Visit, dtype: float64"
      ]
     },
     "execution_count": 516,
     "metadata": {},
     "output_type": "execute_result"
    }
   ],
   "source": [
    "df_a['Page Views Per Visit'].describe()"
   ]
  },
  {
   "cell_type": "code",
   "execution_count": 517,
   "id": "9711389c",
   "metadata": {},
   "outputs": [],
   "source": [
    "df_t = df_a[(df_a['Page Views Per Visit']>5)&(df_a['Page Views Per Visit']<20)]\n",
    "df_t1 = df_a[df_a['Page Views Per Visit']<=5]\n",
    "\n",
    "# let's see who these people are"
   ]
  },
  {
   "cell_type": "code",
   "execution_count": 518,
   "id": "a663e0fb",
   "metadata": {},
   "outputs": [
    {
     "data": {
      "image/png": "[encoded data removed]",
      "text/plain": [
       "<Figure size 648x504 with 1 Axes>"
      ]
     },
     "metadata": {
      "needs_background": "light"
     },
     "output_type": "display_data"
    }
   ],
   "source": [
    "plt.figure(figsize=[9,7])\n",
    "sns.boxplot(df_a['Converted'], df_a['Page Views Per Visit'])\n",
    "plt.show()\n",
    "\n",
    "# people who visit more pages per visit have a higher chance of getting converted"
   ]
  },
  {
   "cell_type": "code",
   "execution_count": 519,
   "id": "07d75385",
   "metadata": {},
   "outputs": [
    {
     "data": {
      "image/png": "[encoded data removed]",
      "text/plain": [
       "<Figure size 648x504 with 1 Axes>"
      ]
     },
     "metadata": {
      "needs_background": "light"
     },
     "output_type": "display_data"
    }
   ],
   "source": [
    "plt.figure(figsize=[9,7])\n",
    "sns.boxplot(df_t['Converted'], df_t['Page Views Per Visit'])\n",
    "plt.show()\n",
    "\n",
    "# people who visit >5 pages per visit"
   ]
  },
  {
   "cell_type": "code",
   "execution_count": 520,
   "id": "a8599635",
   "metadata": {},
   "outputs": [
    {
     "data": {
      "image/png": "[encoded data removed]",
      "text/plain": [
       "<Figure size 648x504 with 1 Axes>"
      ]
     },
     "metadata": {
      "needs_background": "light"
     },
     "output_type": "display_data"
    }
   ],
   "source": [
    "plt.figure(figsize=[9,7])\n",
    "sns.boxplot(df_t1['Converted'], df_t1['Page Views Per Visit'])\n",
    "plt.show()\n",
    "\n",
    "# people who visit >5 pages per visit"
   ]
  },
  {
   "cell_type": "code",
   "execution_count": 521,
   "id": "af423d9d",
   "metadata": {},
   "outputs": [
    {
     "data": {
      "image/png": "[encoded data removed]",
      "text/plain": [
       "<Figure size 1152x648 with 1 Axes>"
      ]
     },
     "metadata": {
      "needs_background": "light"
     },
     "output_type": "display_data"
    }
   ],
   "source": [
    "plt.figure(figsize=(16,9))\n",
    "sns.barplot(data=df_a, x=\"Lead Source\", y=\"Total Time Spent on Website\", estimator=np.sum)\n",
    "plt.xticks(rotation=45)\n",
    "plt.show()\n",
    "\n",
    "# These lead sources bring most traffic to the website"
   ]
  },
  {
   "cell_type": "code",
   "execution_count": 522,
   "id": "145c1aa5",
   "metadata": {},
   "outputs": [
    {
     "data": {
      "image/png": "[encoded data removed]",
      "text/plain": [
       "<Figure size 1152x648 with 1 Axes>"
      ]
     },
     "metadata": {
      "needs_background": "light"
     },
     "output_type": "display_data"
    }
   ],
   "source": [
    "plt.figure(figsize=(16,9))\n",
    "sns.barplot(data=df_a, x=\"Lead Source\", y=\"Page Views Per Visit\", estimator=np.sum)\n",
    "plt.xticks(rotation=45)\n",
    "plt.show()\n",
    "\n",
    "# and they show similar trend over the number of page visited per visit"
   ]
  },
  {
   "cell_type": "code",
   "execution_count": 523,
   "id": "3fc167ca",
   "metadata": {},
   "outputs": [
    {
     "data": {
      "image/png": "[encoded data removed]",
      "text/plain": [
       "<Figure size 720x432 with 1 Axes>"
      ]
     },
     "metadata": {
      "needs_background": "light"
     },
     "output_type": "display_data"
    }
   ],
   "source": [
    "monthly = pd.pivot_table(data=df_a, values=\"Total Time Spent on Website\", index=\"Lead Source\", columns=\"Converted\", aggfunc=sum)\n",
    "monthly.plot(kind=\"bar\", stacked=\"True\", figsize=[10,6])\n",
    "plt.show()\n",
    "\n",
    "# next we stacks the ration of conversion on top of that.\n",
    "# more traffic means higher chances of conversion"
   ]
  },
  {
   "cell_type": "code",
   "execution_count": 574,
   "id": "613509e2",
   "metadata": {},
   "outputs": [
    {
     "data": {
      "image/png": "[encoded data removed]",
      "text/plain": [
       "<Figure size 720x432 with 1 Axes>"
      ]
     },
     "metadata": {
      "needs_background": "light"
     },
     "output_type": "display_data"
    }
   ],
   "source": [
    "monthly = pd.pivot_table(data=df_a, values=\"Page Views Per Visit\", index=\"Lead Source\", columns=\"Converted\", aggfunc=sum)\n",
    "monthly.plot(kind=\"bar\", stacked=\"True\", figsize=[10,6])\n",
    "plt.show()"
   ]
  },
  {
   "cell_type": "code",
   "execution_count": 524,
   "id": "a66ef730",
   "metadata": {},
   "outputs": [
    {
     "data": {
      "image/png": "[encoded data removed]",
      "text/plain": [
       "<Figure size 720x432 with 1 Axes>"
      ]
     },
     "metadata": {
      "needs_background": "light"
     },
     "output_type": "display_data"
    }
   ],
   "source": [
    "monthly = pd.pivot_table(data=df_a, values=\"Total Time Spent on Website\", index=\"Lead Origin\", columns=\"Converted\", aggfunc=sum)\n",
    "monthly.plot(kind=\"bar\", stacked=\"True\", figsize=[10,6])\n",
    "plt.show()\n",
    "\n",
    "# Lead origin levels with their conversion ratio, with time spent on website as values"
   ]
  },
  {
   "cell_type": "code",
   "execution_count": 525,
   "id": "c0cb1c4a",
   "metadata": {},
   "outputs": [
    {
     "data": {
      "image/png": "[encoded data removed]",
      "text/plain": [
       "<Figure size 720x432 with 1 Axes>"
      ]
     },
     "metadata": {
      "needs_background": "light"
     },
     "output_type": "display_data"
    }
   ],
   "source": [
    "monthly = pd.pivot_table(data=df_a, values=\"Page Views Per Visit\", index=\"Lead Origin\", columns=\"Converted\", aggfunc=sum)\n",
    "monthly.plot(kind=\"bar\", stacked=\"True\", figsize=[10,6])\n",
    "plt.show()\n",
    "\n",
    "# Lead origin levels with their conversion ratio, with page views per visit as values"
   ]
  },
  {
   "cell_type": "code",
   "execution_count": 526,
   "id": "baabb59b",
   "metadata": {},
   "outputs": [
    {
     "data": {
      "image/png": "[encoded data removed]",
      "text/plain": [
       "<Figure size 1152x648 with 1 Axes>"
      ]
     },
     "metadata": {
      "needs_background": "light"
     },
     "output_type": "display_data"
    }
   ],
   "source": [
    "plt.figure(figsize=(16,9))\n",
    "sns.barplot(data=df_a, x=\"Last Notable Activity\", y=\"Total Time Spent on Website\", estimator=np.sum)\n",
    "plt.xticks(rotation=45)\n",
    "plt.show()\n",
    "\n",
    "# last notable activity distribution of the total traffic"
   ]
  },
  {
   "cell_type": "code",
   "execution_count": 527,
   "id": "e57d76d4",
   "metadata": {},
   "outputs": [
    {
     "data": {
      "image/png": "[encoded data removed]",
      "text/plain": [
       "<Figure size 720x432 with 1 Axes>"
      ]
     },
     "metadata": {
      "needs_background": "light"
     },
     "output_type": "display_data"
    }
   ],
   "source": [
    "monthly = pd.pivot_table(data=df_a, values=\"Total Time Spent on Website\", index=\"Last Notable Activity\", columns=\"Converted\", aggfunc=sum)\n",
    "monthly.plot(kind=\"bar\", stacked=\"True\", figsize=[10,6])\n",
    "plt.show()\n",
    "\n",
    "# Notable activities that lead to higher chances of conversion, and how much time they spent on the website"
   ]
  },
  {
   "cell_type": "code",
   "execution_count": 528,
   "id": "d1df1733",
   "metadata": {},
   "outputs": [
    {
     "data": {
      "image/png": "[encoded data removed]",
      "text/plain": [
       "<Figure size 720x432 with 1 Axes>"
      ]
     },
     "metadata": {
      "needs_background": "light"
     },
     "output_type": "display_data"
    }
   ],
   "source": [
    "monthly = pd.pivot_table(data=df_a, values=\"Page Views Per Visit\", index=\"Last Notable Activity\", columns=\"Converted\", aggfunc=sum)\n",
    "monthly.plot(kind=\"bar\", stacked=\"True\", figsize=[10,6])\n",
    "plt.show()\n",
    "\n",
    "# Notable activities that lead to higher chances of conversion, depending on how many pages these leads visit each time"
   ]
  },
  {
   "cell_type": "markdown",
   "id": "55f691e4",
   "metadata": {},
   "source": [
    "### 1.3 Dummy Preparation"
   ]
  },
  {
   "cell_type": "code",
   "execution_count": 529,
   "id": "5ff0cbb0",
   "metadata": {},
   "outputs": [],
   "source": [
    "df_l = df1[indie_vars] # dataframe for the model"
   ]
  },
  {
   "cell_type": "code",
   "execution_count": 530,
   "id": "9508e012",
   "metadata": {},
   "outputs": [
    {
     "data": {
      "text/html": [
       "<div>\n",
       "<style scoped>\n",
       "    .dataframe tbody tr th:only-of-type {\n",
       "        vertical-align: middle;\n",
       "    }\n",
       "\n",
       "    .dataframe tbody tr th {\n",
       "        vertical-align: top;\n",
       "    }\n",
       "\n",
       "    .dataframe thead th {\n",
       "        text-align: right;\n",
       "    }\n",
       "</style>\n",
       "<table border=\"1\" class=\"dataframe\">\n",
       "  <thead>\n",
       "    <tr style=\"text-align: right;\">\n",
       "      <th></th>\n",
       "      <th>Last Notable ActivityCode</th>\n",
       "      <th>Lead Origin</th>\n",
       "      <th>Page Views Per Visit</th>\n",
       "      <th>Last ActivityCode</th>\n",
       "      <th>Total Time Spent on Website</th>\n",
       "      <th>Lead SourceCode</th>\n",
       "    </tr>\n",
       "  </thead>\n",
       "  <tbody>\n",
       "    <tr>\n",
       "      <th>0</th>\n",
       "      <td>0</td>\n",
       "      <td>API</td>\n",
       "      <td>0.00</td>\n",
       "      <td>0</td>\n",
       "      <td>0</td>\n",
       "      <td>0</td>\n",
       "    </tr>\n",
       "    <tr>\n",
       "      <th>1</th>\n",
       "      <td>1</td>\n",
       "      <td>API</td>\n",
       "      <td>2.50</td>\n",
       "      <td>1</td>\n",
       "      <td>674</td>\n",
       "      <td>1</td>\n",
       "    </tr>\n",
       "    <tr>\n",
       "      <th>2</th>\n",
       "      <td>1</td>\n",
       "      <td>Landing Page Submission</td>\n",
       "      <td>2.00</td>\n",
       "      <td>1</td>\n",
       "      <td>1532</td>\n",
       "      <td>2</td>\n",
       "    </tr>\n",
       "    <tr>\n",
       "      <th>3</th>\n",
       "      <td>0</td>\n",
       "      <td>Landing Page Submission</td>\n",
       "      <td>1.00</td>\n",
       "      <td>2</td>\n",
       "      <td>305</td>\n",
       "      <td>2</td>\n",
       "    </tr>\n",
       "    <tr>\n",
       "      <th>4</th>\n",
       "      <td>0</td>\n",
       "      <td>Landing Page Submission</td>\n",
       "      <td>1.00</td>\n",
       "      <td>3</td>\n",
       "      <td>1428</td>\n",
       "      <td>3</td>\n",
       "    </tr>\n",
       "    <tr>\n",
       "      <th>...</th>\n",
       "      <td>...</td>\n",
       "      <td>...</td>\n",
       "      <td>...</td>\n",
       "      <td>...</td>\n",
       "      <td>...</td>\n",
       "      <td>...</td>\n",
       "    </tr>\n",
       "    <tr>\n",
       "      <th>9235</th>\n",
       "      <td>15</td>\n",
       "      <td>Landing Page Submission</td>\n",
       "      <td>2.67</td>\n",
       "      <td>16</td>\n",
       "      <td>1845</td>\n",
       "      <td>2</td>\n",
       "    </tr>\n",
       "    <tr>\n",
       "      <th>9236</th>\n",
       "      <td>9</td>\n",
       "      <td>Landing Page Submission</td>\n",
       "      <td>2.00</td>\n",
       "      <td>11</td>\n",
       "      <td>238</td>\n",
       "      <td>2</td>\n",
       "    </tr>\n",
       "    <tr>\n",
       "      <th>9237</th>\n",
       "      <td>9</td>\n",
       "      <td>Landing Page Submission</td>\n",
       "      <td>2.00</td>\n",
       "      <td>11</td>\n",
       "      <td>199</td>\n",
       "      <td>2</td>\n",
       "    </tr>\n",
       "    <tr>\n",
       "      <th>9238</th>\n",
       "      <td>9</td>\n",
       "      <td>Landing Page Submission</td>\n",
       "      <td>3.00</td>\n",
       "      <td>11</td>\n",
       "      <td>499</td>\n",
       "      <td>3</td>\n",
       "    </tr>\n",
       "    <tr>\n",
       "      <th>9239</th>\n",
       "      <td>0</td>\n",
       "      <td>Landing Page Submission</td>\n",
       "      <td>3.00</td>\n",
       "      <td>11</td>\n",
       "      <td>1279</td>\n",
       "      <td>2</td>\n",
       "    </tr>\n",
       "  </tbody>\n",
       "</table>\n",
       "<p>9074 rows × 6 columns</p>\n",
       "</div>"
      ],
      "text/plain": [
       "      Last Notable ActivityCode              Lead Origin  \\\n",
       "0                             0                      API   \n",
       "1                             1                      API   \n",
       "2                             1  Landing Page Submission   \n",
       "3                             0  Landing Page Submission   \n",
       "4                             0  Landing Page Submission   \n",
       "...                         ...                      ...   \n",
       "9235                         15  Landing Page Submission   \n",
       "9236                          9  Landing Page Submission   \n",
       "9237                          9  Landing Page Submission   \n",
       "9238                          9  Landing Page Submission   \n",
       "9239                          0  Landing Page Submission   \n",
       "\n",
       "      Page Views Per Visit  Last ActivityCode  Total Time Spent on Website  \\\n",
       "0                     0.00                  0                            0   \n",
       "1                     2.50                  1                          674   \n",
       "2                     2.00                  1                         1532   \n",
       "3                     1.00                  2                          305   \n",
       "4                     1.00                  3                         1428   \n",
       "...                    ...                ...                          ...   \n",
       "9235                  2.67                 16                         1845   \n",
       "9236                  2.00                 11                          238   \n",
       "9237                  2.00                 11                          199   \n",
       "9238                  3.00                 11                          499   \n",
       "9239                  3.00                 11                         1279   \n",
       "\n",
       "      Lead SourceCode  \n",
       "0                   0  \n",
       "1                   1  \n",
       "2                   2  \n",
       "3                   2  \n",
       "4                   3  \n",
       "...               ...  \n",
       "9235                2  \n",
       "9236                2  \n",
       "9237                2  \n",
       "9238                3  \n",
       "9239                2  \n",
       "\n",
       "[9074 rows x 6 columns]"
      ]
     },
     "execution_count": 530,
     "metadata": {},
     "output_type": "execute_result"
    }
   ],
   "source": [
    "df_l"
   ]
  },
  {
   "cell_type": "code",
   "execution_count": 531,
   "id": "70e59fa7",
   "metadata": {},
   "outputs": [],
   "source": [
    "varlist = vardefiner(df_l)\n",
    "cat_vars = varlist[1]"
   ]
  },
  {
   "cell_type": "code",
   "execution_count": 532,
   "id": "17d5a6a4",
   "metadata": {},
   "outputs": [],
   "source": [
    "def gettingdummies(df0,row):\n",
    "    for item in row:\n",
    "        dummy = pd.get_dummies(df0[item], drop_first = True).rename(columns = lambda x: item+'_'+str(x))\n",
    "        df0 = pd.concat([df0, dummy], axis = 1)\n",
    "        df0.drop([item], axis = 1, inplace = True)\n",
    "    return df0\n",
    "            # a function for dummy encoding"
   ]
  },
  {
   "cell_type": "code",
   "execution_count": 533,
   "id": "51d0b1b7",
   "metadata": {},
   "outputs": [],
   "source": [
    "df_l = gettingdummies(df_l,cat_vars) # getting dummies"
   ]
  },
  {
   "cell_type": "code",
   "execution_count": 534,
   "id": "d0c8d466",
   "metadata": {},
   "outputs": [
    {
     "data": {
      "text/html": [
       "<div>\n",
       "<style scoped>\n",
       "    .dataframe tbody tr th:only-of-type {\n",
       "        vertical-align: middle;\n",
       "    }\n",
       "\n",
       "    .dataframe tbody tr th {\n",
       "        vertical-align: top;\n",
       "    }\n",
       "\n",
       "    .dataframe thead th {\n",
       "        text-align: right;\n",
       "    }\n",
       "</style>\n",
       "<table border=\"1\" class=\"dataframe\">\n",
       "  <thead>\n",
       "    <tr style=\"text-align: right;\">\n",
       "      <th></th>\n",
       "      <th>Last Notable ActivityCode</th>\n",
       "      <th>Page Views Per Visit</th>\n",
       "      <th>Last ActivityCode</th>\n",
       "      <th>Total Time Spent on Website</th>\n",
       "      <th>Lead SourceCode</th>\n",
       "      <th>Lead Origin_Landing Page Submission</th>\n",
       "      <th>Lead Origin_Lead Add Form</th>\n",
       "      <th>Lead Origin_Lead Import</th>\n",
       "    </tr>\n",
       "  </thead>\n",
       "  <tbody>\n",
       "    <tr>\n",
       "      <th>0</th>\n",
       "      <td>0</td>\n",
       "      <td>0.00</td>\n",
       "      <td>0</td>\n",
       "      <td>0</td>\n",
       "      <td>0</td>\n",
       "      <td>0</td>\n",
       "      <td>0</td>\n",
       "      <td>0</td>\n",
       "    </tr>\n",
       "    <tr>\n",
       "      <th>1</th>\n",
       "      <td>1</td>\n",
       "      <td>2.50</td>\n",
       "      <td>1</td>\n",
       "      <td>674</td>\n",
       "      <td>1</td>\n",
       "      <td>0</td>\n",
       "      <td>0</td>\n",
       "      <td>0</td>\n",
       "    </tr>\n",
       "    <tr>\n",
       "      <th>2</th>\n",
       "      <td>1</td>\n",
       "      <td>2.00</td>\n",
       "      <td>1</td>\n",
       "      <td>1532</td>\n",
       "      <td>2</td>\n",
       "      <td>1</td>\n",
       "      <td>0</td>\n",
       "      <td>0</td>\n",
       "    </tr>\n",
       "    <tr>\n",
       "      <th>3</th>\n",
       "      <td>0</td>\n",
       "      <td>1.00</td>\n",
       "      <td>2</td>\n",
       "      <td>305</td>\n",
       "      <td>2</td>\n",
       "      <td>1</td>\n",
       "      <td>0</td>\n",
       "      <td>0</td>\n",
       "    </tr>\n",
       "    <tr>\n",
       "      <th>4</th>\n",
       "      <td>0</td>\n",
       "      <td>1.00</td>\n",
       "      <td>3</td>\n",
       "      <td>1428</td>\n",
       "      <td>3</td>\n",
       "      <td>1</td>\n",
       "      <td>0</td>\n",
       "      <td>0</td>\n",
       "    </tr>\n",
       "    <tr>\n",
       "      <th>...</th>\n",
       "      <td>...</td>\n",
       "      <td>...</td>\n",
       "      <td>...</td>\n",
       "      <td>...</td>\n",
       "      <td>...</td>\n",
       "      <td>...</td>\n",
       "      <td>...</td>\n",
       "      <td>...</td>\n",
       "    </tr>\n",
       "    <tr>\n",
       "      <th>9235</th>\n",
       "      <td>15</td>\n",
       "      <td>2.67</td>\n",
       "      <td>16</td>\n",
       "      <td>1845</td>\n",
       "      <td>2</td>\n",
       "      <td>1</td>\n",
       "      <td>0</td>\n",
       "      <td>0</td>\n",
       "    </tr>\n",
       "    <tr>\n",
       "      <th>9236</th>\n",
       "      <td>9</td>\n",
       "      <td>2.00</td>\n",
       "      <td>11</td>\n",
       "      <td>238</td>\n",
       "      <td>2</td>\n",
       "      <td>1</td>\n",
       "      <td>0</td>\n",
       "      <td>0</td>\n",
       "    </tr>\n",
       "    <tr>\n",
       "      <th>9237</th>\n",
       "      <td>9</td>\n",
       "      <td>2.00</td>\n",
       "      <td>11</td>\n",
       "      <td>199</td>\n",
       "      <td>2</td>\n",
       "      <td>1</td>\n",
       "      <td>0</td>\n",
       "      <td>0</td>\n",
       "    </tr>\n",
       "    <tr>\n",
       "      <th>9238</th>\n",
       "      <td>9</td>\n",
       "      <td>3.00</td>\n",
       "      <td>11</td>\n",
       "      <td>499</td>\n",
       "      <td>3</td>\n",
       "      <td>1</td>\n",
       "      <td>0</td>\n",
       "      <td>0</td>\n",
       "    </tr>\n",
       "    <tr>\n",
       "      <th>9239</th>\n",
       "      <td>0</td>\n",
       "      <td>3.00</td>\n",
       "      <td>11</td>\n",
       "      <td>1279</td>\n",
       "      <td>2</td>\n",
       "      <td>1</td>\n",
       "      <td>0</td>\n",
       "      <td>0</td>\n",
       "    </tr>\n",
       "  </tbody>\n",
       "</table>\n",
       "<p>9074 rows × 8 columns</p>\n",
       "</div>"
      ],
      "text/plain": [
       "      Last Notable ActivityCode  Page Views Per Visit  Last ActivityCode  \\\n",
       "0                             0                  0.00                  0   \n",
       "1                             1                  2.50                  1   \n",
       "2                             1                  2.00                  1   \n",
       "3                             0                  1.00                  2   \n",
       "4                             0                  1.00                  3   \n",
       "...                         ...                   ...                ...   \n",
       "9235                         15                  2.67                 16   \n",
       "9236                          9                  2.00                 11   \n",
       "9237                          9                  2.00                 11   \n",
       "9238                          9                  3.00                 11   \n",
       "9239                          0                  3.00                 11   \n",
       "\n",
       "      Total Time Spent on Website  Lead SourceCode  \\\n",
       "0                               0                0   \n",
       "1                             674                1   \n",
       "2                            1532                2   \n",
       "3                             305                2   \n",
       "4                            1428                3   \n",
       "...                           ...              ...   \n",
       "9235                         1845                2   \n",
       "9236                          238                2   \n",
       "9237                          199                2   \n",
       "9238                          499                3   \n",
       "9239                         1279                2   \n",
       "\n",
       "      Lead Origin_Landing Page Submission  Lead Origin_Lead Add Form  \\\n",
       "0                                       0                          0   \n",
       "1                                       0                          0   \n",
       "2                                       1                          0   \n",
       "3                                       1                          0   \n",
       "4                                       1                          0   \n",
       "...                                   ...                        ...   \n",
       "9235                                    1                          0   \n",
       "9236                                    1                          0   \n",
       "9237                                    1                          0   \n",
       "9238                                    1                          0   \n",
       "9239                                    1                          0   \n",
       "\n",
       "      Lead Origin_Lead Import  \n",
       "0                           0  \n",
       "1                           0  \n",
       "2                           0  \n",
       "3                           0  \n",
       "4                           0  \n",
       "...                       ...  \n",
       "9235                        0  \n",
       "9236                        0  \n",
       "9237                        0  \n",
       "9238                        0  \n",
       "9239                        0  \n",
       "\n",
       "[9074 rows x 8 columns]"
      ]
     },
     "execution_count": 534,
     "metadata": {},
     "output_type": "execute_result"
    }
   ],
   "source": [
    "df_l"
   ]
  },
  {
   "cell_type": "code",
   "execution_count": 535,
   "id": "fea002a4",
   "metadata": {},
   "outputs": [],
   "source": [
    "\n",
    "Xa = df_l # specifying the X, we have already specified y"
   ]
  },
  {
   "cell_type": "markdown",
   "id": "0eb0f763",
   "metadata": {},
   "source": [
    "## 3. Model Building"
   ]
  },
  {
   "cell_type": "code",
   "execution_count": 536,
   "id": "0201f036",
   "metadata": {},
   "outputs": [],
   "source": [
    "from sklearn.model_selection import train_test_split # splitting the data\n",
    "\n",
    "X_train, X_test, y_train, y_test = train_test_split(Xa, y, train_size=0.8, test_size=0.2, random_state=100)"
   ]
  },
  {
   "cell_type": "code",
   "execution_count": 537,
   "id": "5485940e",
   "metadata": {},
   "outputs": [],
   "source": [
    "col = list(col)\n",
    "\n",
    "# col.remove('Lead SourceCode') # this is not a numeric variable"
   ]
  },
  {
   "cell_type": "code",
   "execution_count": 538,
   "id": "bf060457",
   "metadata": {},
   "outputs": [
    {
     "data": {
      "text/plain": [
       "['Total Time Spent on Website', 'Page Views Per Visit']"
      ]
     },
     "execution_count": 538,
     "metadata": {},
     "output_type": "execute_result"
    }
   ],
   "source": [
    "col"
   ]
  },
  {
   "cell_type": "code",
   "execution_count": 539,
   "id": "ab64befb",
   "metadata": {},
   "outputs": [],
   "source": [
    "from sklearn.preprocessing import StandardScaler\n",
    "\n",
    "scaler = StandardScaler()\n",
    "\n",
    "X_train[col] = scaler.fit_transform(X_train[col])"
   ]
  },
  {
   "cell_type": "code",
   "execution_count": 540,
   "id": "3fac24d8",
   "metadata": {},
   "outputs": [
    {
     "data": {
      "text/plain": [
       "160     1\n",
       "2267    0\n",
       "8895    1\n",
       "854     1\n",
       "3640    0\n",
       "       ..\n",
       "367     0\n",
       "82      1\n",
       "8199    0\n",
       "7077    0\n",
       "5754    0\n",
       "Name: Converted, Length: 7259, dtype: int64"
      ]
     },
     "execution_count": 540,
     "metadata": {},
     "output_type": "execute_result"
    }
   ],
   "source": [
    "y_train"
   ]
  },
  {
   "cell_type": "code",
   "execution_count": 541,
   "id": "f92dded8",
   "metadata": {},
   "outputs": [],
   "source": [
    "import statsmodels.api as sm"
   ]
  },
  {
   "cell_type": "code",
   "execution_count": 542,
   "id": "cbf7dc1f",
   "metadata": {},
   "outputs": [],
   "source": [
    "from statsmodels.stats.outliers_influence import variance_inflation_factor"
   ]
  },
  {
   "cell_type": "code",
   "execution_count": 543,
   "id": "429f4acb",
   "metadata": {},
   "outputs": [
    {
     "data": {
      "text/html": [
       "<table class=\"simpletable\">\n",
       "<caption>Generalized Linear Model Regression Results</caption>\n",
       "<tr>\n",
       "  <th>Dep. Variable:</th>       <td>Converted</td>    <th>  No. Observations:  </th>  <td>  7259</td> \n",
       "</tr>\n",
       "<tr>\n",
       "  <th>Model:</th>                  <td>GLM</td>       <th>  Df Residuals:      </th>  <td>  7250</td> \n",
       "</tr>\n",
       "<tr>\n",
       "  <th>Model Family:</th>        <td>Binomial</td>     <th>  Df Model:          </th>  <td>     8</td> \n",
       "</tr>\n",
       "<tr>\n",
       "  <th>Link Function:</th>         <td>Logit</td>      <th>  Scale:             </th> <td>  1.0000</td>\n",
       "</tr>\n",
       "<tr>\n",
       "  <th>Method:</th>                <td>IRLS</td>       <th>  Log-Likelihood:    </th> <td> -3446.6</td>\n",
       "</tr>\n",
       "<tr>\n",
       "  <th>Date:</th>            <td>Thu, 29 Dec 2022</td> <th>  Deviance:          </th> <td>  6893.3</td>\n",
       "</tr>\n",
       "<tr>\n",
       "  <th>Time:</th>                <td>10:39:43</td>     <th>  Pearson chi2:      </th> <td>7.56e+03</td>\n",
       "</tr>\n",
       "<tr>\n",
       "  <th>No. Iterations:</th>          <td>6</td>        <th>  Pseudo R-squ. (CS):</th>  <td>0.3156</td> \n",
       "</tr>\n",
       "<tr>\n",
       "  <th>Covariance Type:</th>     <td>nonrobust</td>    <th>                     </th>     <td> </td>   \n",
       "</tr>\n",
       "</table>\n",
       "<table class=\"simpletable\">\n",
       "<tr>\n",
       "                   <td></td>                      <th>coef</th>     <th>std err</th>      <th>z</th>      <th>P>|z|</th>  <th>[0.025</th>    <th>0.975]</th>  \n",
       "</tr>\n",
       "<tr>\n",
       "  <th>const</th>                               <td>   -1.1022</td> <td>    0.072</td> <td>  -15.338</td> <td> 0.000</td> <td>   -1.243</td> <td>   -0.961</td>\n",
       "</tr>\n",
       "<tr>\n",
       "  <th>Last Notable ActivityCode</th>           <td>    0.1860</td> <td>    0.012</td> <td>   15.680</td> <td> 0.000</td> <td>    0.163</td> <td>    0.209</td>\n",
       "</tr>\n",
       "<tr>\n",
       "  <th>Page Views Per Visit</th>                <td>   -0.0549</td> <td>    0.036</td> <td>   -1.539</td> <td> 0.124</td> <td>   -0.125</td> <td>    0.015</td>\n",
       "</tr>\n",
       "<tr>\n",
       "  <th>Last ActivityCode</th>                   <td>    0.0091</td> <td>    0.010</td> <td>    0.909</td> <td> 0.363</td> <td>   -0.011</td> <td>    0.029</td>\n",
       "</tr>\n",
       "<tr>\n",
       "  <th>Total Time Spent on Website</th>         <td>    1.0551</td> <td>    0.034</td> <td>   31.155</td> <td> 0.000</td> <td>    0.989</td> <td>    1.122</td>\n",
       "</tr>\n",
       "<tr>\n",
       "  <th>Lead SourceCode</th>                     <td>   -0.0507</td> <td>    0.027</td> <td>   -1.880</td> <td> 0.060</td> <td>   -0.103</td> <td>    0.002</td>\n",
       "</tr>\n",
       "<tr>\n",
       "  <th>Lead Origin_Landing Page Submission</th> <td>   -0.3876</td> <td>    0.071</td> <td>   -5.449</td> <td> 0.000</td> <td>   -0.527</td> <td>   -0.248</td>\n",
       "</tr>\n",
       "<tr>\n",
       "  <th>Lead Origin_Lead Add Form</th>           <td>    4.1684</td> <td>    0.230</td> <td>   18.107</td> <td> 0.000</td> <td>    3.717</td> <td>    4.620</td>\n",
       "</tr>\n",
       "<tr>\n",
       "  <th>Lead Origin_Lead Import</th>             <td>    1.5270</td> <td>    0.461</td> <td>    3.310</td> <td> 0.001</td> <td>    0.623</td> <td>    2.431</td>\n",
       "</tr>\n",
       "</table>"
      ],
      "text/plain": [
       "<class 'statsmodels.iolib.summary.Summary'>\n",
       "\"\"\"\n",
       "                 Generalized Linear Model Regression Results                  \n",
       "==============================================================================\n",
       "Dep. Variable:              Converted   No. Observations:                 7259\n",
       "Model:                            GLM   Df Residuals:                     7250\n",
       "Model Family:                Binomial   Df Model:                            8\n",
       "Link Function:                  Logit   Scale:                          1.0000\n",
       "Method:                          IRLS   Log-Likelihood:                -3446.6\n",
       "Date:                Thu, 29 Dec 2022   Deviance:                       6893.3\n",
       "Time:                        10:39:43   Pearson chi2:                 7.56e+03\n",
       "No. Iterations:                     6   Pseudo R-squ. (CS):             0.3156\n",
       "Covariance Type:            nonrobust                                         \n",
       "=======================================================================================================\n",
       "                                          coef    std err          z      P>|z|      [0.025      0.975]\n",
       "-------------------------------------------------------------------------------------------------------\n",
       "const                                  -1.1022      0.072    -15.338      0.000      -1.243      -0.961\n",
       "Last Notable ActivityCode               0.1860      0.012     15.680      0.000       0.163       0.209\n",
       "Page Views Per Visit                   -0.0549      0.036     -1.539      0.124      -0.125       0.015\n",
       "Last ActivityCode                       0.0091      0.010      0.909      0.363      -0.011       0.029\n",
       "Total Time Spent on Website             1.0551      0.034     31.155      0.000       0.989       1.122\n",
       "Lead SourceCode                        -0.0507      0.027     -1.880      0.060      -0.103       0.002\n",
       "Lead Origin_Landing Page Submission    -0.3876      0.071     -5.449      0.000      -0.527      -0.248\n",
       "Lead Origin_Lead Add Form               4.1684      0.230     18.107      0.000       3.717       4.620\n",
       "Lead Origin_Lead Import                 1.5270      0.461      3.310      0.001       0.623       2.431\n",
       "=======================================================================================================\n",
       "\"\"\""
      ]
     },
     "execution_count": 543,
     "metadata": {},
     "output_type": "execute_result"
    }
   ],
   "source": [
    "X_train_sm = sm.add_constant(X_train)\n",
    "log = sm.GLM(y_train, X_train_sm, family = sm.families.Binomial())\n",
    "res = log.fit()\n",
    "res.summary()"
   ]
  },
  {
   "cell_type": "code",
   "execution_count": 544,
   "id": "f6828f69",
   "metadata": {},
   "outputs": [
    {
     "data": {
      "text/html": [
       "<div>\n",
       "<style scoped>\n",
       "    .dataframe tbody tr th:only-of-type {\n",
       "        vertical-align: middle;\n",
       "    }\n",
       "\n",
       "    .dataframe tbody tr th {\n",
       "        vertical-align: top;\n",
       "    }\n",
       "\n",
       "    .dataframe thead th {\n",
       "        text-align: right;\n",
       "    }\n",
       "</style>\n",
       "<table border=\"1\" class=\"dataframe\">\n",
       "  <thead>\n",
       "    <tr style=\"text-align: right;\">\n",
       "      <th></th>\n",
       "      <th>Features</th>\n",
       "      <th>VIF</th>\n",
       "    </tr>\n",
       "  </thead>\n",
       "  <tbody>\n",
       "    <tr>\n",
       "      <th>2</th>\n",
       "      <td>Last ActivityCode</td>\n",
       "      <td>4.31</td>\n",
       "    </tr>\n",
       "    <tr>\n",
       "      <th>4</th>\n",
       "      <td>Lead SourceCode</td>\n",
       "      <td>3.76</td>\n",
       "    </tr>\n",
       "    <tr>\n",
       "      <th>0</th>\n",
       "      <td>Last Notable ActivityCode</td>\n",
       "      <td>3.52</td>\n",
       "    </tr>\n",
       "    <tr>\n",
       "      <th>5</th>\n",
       "      <td>Lead Origin_Landing Page Submission</td>\n",
       "      <td>2.63</td>\n",
       "    </tr>\n",
       "    <tr>\n",
       "      <th>6</th>\n",
       "      <td>Lead Origin_Lead Add Form</td>\n",
       "      <td>2.13</td>\n",
       "    </tr>\n",
       "    <tr>\n",
       "      <th>1</th>\n",
       "      <td>Page Views Per Visit</td>\n",
       "      <td>1.35</td>\n",
       "    </tr>\n",
       "    <tr>\n",
       "      <th>3</th>\n",
       "      <td>Total Time Spent on Website</td>\n",
       "      <td>1.18</td>\n",
       "    </tr>\n",
       "    <tr>\n",
       "      <th>7</th>\n",
       "      <td>Lead Origin_Lead Import</td>\n",
       "      <td>1.13</td>\n",
       "    </tr>\n",
       "  </tbody>\n",
       "</table>\n",
       "</div>"
      ],
      "text/plain": [
       "                              Features   VIF\n",
       "2                    Last ActivityCode  4.31\n",
       "4                      Lead SourceCode  3.76\n",
       "0            Last Notable ActivityCode  3.52\n",
       "5  Lead Origin_Landing Page Submission  2.63\n",
       "6            Lead Origin_Lead Add Form  2.13\n",
       "1                 Page Views Per Visit  1.35\n",
       "3          Total Time Spent on Website  1.18\n",
       "7              Lead Origin_Lead Import  1.13"
      ]
     },
     "execution_count": 544,
     "metadata": {},
     "output_type": "execute_result"
    }
   ],
   "source": [
    "vif = pd.DataFrame()\n",
    "vif['Features'] = X_train.columns\n",
    "vif['VIF'] = [variance_inflation_factor(X_train.values, i) for i in range(X_train.shape[1])]\n",
    "vif['VIF'] = round(vif['VIF'], 2)\n",
    "vif = vif.sort_values(by = \"VIF\", ascending = False)\n",
    "vif  # But they do not have a high VIF score"
   ]
  },
  {
   "cell_type": "code",
   "execution_count": 545,
   "id": "15ced467",
   "metadata": {},
   "outputs": [],
   "source": [
    "y_train_pred = pd.DataFrame(res.predict(X_train_sm))"
   ]
  },
  {
   "cell_type": "code",
   "execution_count": 546,
   "id": "f3539afb",
   "metadata": {},
   "outputs": [],
   "source": [
    "y_train = pd.DataFrame(y_train)"
   ]
  },
  {
   "cell_type": "code",
   "execution_count": 547,
   "id": "855ef452",
   "metadata": {},
   "outputs": [],
   "source": [
    "y_train_pred_df = pd.DataFrame(y_train_pred)"
   ]
  },
  {
   "cell_type": "code",
   "execution_count": 548,
   "id": "23e4f600",
   "metadata": {},
   "outputs": [],
   "source": [
    "y_train1 = y_train.copy()\n",
    "y_train1['Churn_Prob'] = y_train_pred # adding the churn probability to the dataframe"
   ]
  },
  {
   "cell_type": "code",
   "execution_count": 549,
   "id": "3f05d49b",
   "metadata": {},
   "outputs": [
    {
     "data": {
      "text/html": [
       "<div>\n",
       "<style scoped>\n",
       "    .dataframe tbody tr th:only-of-type {\n",
       "        vertical-align: middle;\n",
       "    }\n",
       "\n",
       "    .dataframe tbody tr th {\n",
       "        vertical-align: top;\n",
       "    }\n",
       "\n",
       "    .dataframe thead th {\n",
       "        text-align: right;\n",
       "    }\n",
       "</style>\n",
       "<table border=\"1\" class=\"dataframe\">\n",
       "  <thead>\n",
       "    <tr style=\"text-align: right;\">\n",
       "      <th></th>\n",
       "      <th>Converted</th>\n",
       "      <th>Churn_Prob</th>\n",
       "    </tr>\n",
       "  </thead>\n",
       "  <tbody>\n",
       "    <tr>\n",
       "      <th>160</th>\n",
       "      <td>1</td>\n",
       "      <td>0.401859</td>\n",
       "    </tr>\n",
       "    <tr>\n",
       "      <th>2267</th>\n",
       "      <td>0</td>\n",
       "      <td>0.388974</td>\n",
       "    </tr>\n",
       "    <tr>\n",
       "      <th>8895</th>\n",
       "      <td>1</td>\n",
       "      <td>0.449724</td>\n",
       "    </tr>\n",
       "    <tr>\n",
       "      <th>854</th>\n",
       "      <td>1</td>\n",
       "      <td>0.704011</td>\n",
       "    </tr>\n",
       "    <tr>\n",
       "      <th>3640</th>\n",
       "      <td>0</td>\n",
       "      <td>0.116810</td>\n",
       "    </tr>\n",
       "    <tr>\n",
       "      <th>...</th>\n",
       "      <td>...</td>\n",
       "      <td>...</td>\n",
       "    </tr>\n",
       "    <tr>\n",
       "      <th>367</th>\n",
       "      <td>0</td>\n",
       "      <td>0.321517</td>\n",
       "    </tr>\n",
       "    <tr>\n",
       "      <th>82</th>\n",
       "      <td>1</td>\n",
       "      <td>0.235545</td>\n",
       "    </tr>\n",
       "    <tr>\n",
       "      <th>8199</th>\n",
       "      <td>0</td>\n",
       "      <td>0.976185</td>\n",
       "    </tr>\n",
       "    <tr>\n",
       "      <th>7077</th>\n",
       "      <td>0</td>\n",
       "      <td>0.173014</td>\n",
       "    </tr>\n",
       "    <tr>\n",
       "      <th>5754</th>\n",
       "      <td>0</td>\n",
       "      <td>0.390173</td>\n",
       "    </tr>\n",
       "  </tbody>\n",
       "</table>\n",
       "<p>7259 rows × 2 columns</p>\n",
       "</div>"
      ],
      "text/plain": [
       "      Converted  Churn_Prob\n",
       "160           1    0.401859\n",
       "2267          0    0.388974\n",
       "8895          1    0.449724\n",
       "854           1    0.704011\n",
       "3640          0    0.116810\n",
       "...         ...         ...\n",
       "367           0    0.321517\n",
       "82            1    0.235545\n",
       "8199          0    0.976185\n",
       "7077          0    0.173014\n",
       "5754          0    0.390173\n",
       "\n",
       "[7259 rows x 2 columns]"
      ]
     },
     "execution_count": 549,
     "metadata": {},
     "output_type": "execute_result"
    }
   ],
   "source": [
    "y_train1"
   ]
  },
  {
   "cell_type": "code",
   "execution_count": 550,
   "id": "569ae263",
   "metadata": {},
   "outputs": [
    {
     "data": {
      "text/html": [
       "<div>\n",
       "<style scoped>\n",
       "    .dataframe tbody tr th:only-of-type {\n",
       "        vertical-align: middle;\n",
       "    }\n",
       "\n",
       "    .dataframe tbody tr th {\n",
       "        vertical-align: top;\n",
       "    }\n",
       "\n",
       "    .dataframe thead th {\n",
       "        text-align: right;\n",
       "    }\n",
       "</style>\n",
       "<table border=\"1\" class=\"dataframe\">\n",
       "  <thead>\n",
       "    <tr style=\"text-align: right;\">\n",
       "      <th></th>\n",
       "      <th>Converted</th>\n",
       "      <th>Churn_Prob</th>\n",
       "      <th>0.0</th>\n",
       "      <th>0.1</th>\n",
       "      <th>0.2</th>\n",
       "      <th>0.3</th>\n",
       "      <th>0.4</th>\n",
       "      <th>0.5</th>\n",
       "      <th>0.6</th>\n",
       "      <th>0.7</th>\n",
       "      <th>0.8</th>\n",
       "      <th>0.9</th>\n",
       "    </tr>\n",
       "  </thead>\n",
       "  <tbody>\n",
       "    <tr>\n",
       "      <th>160</th>\n",
       "      <td>1</td>\n",
       "      <td>0.401859</td>\n",
       "      <td>1</td>\n",
       "      <td>1</td>\n",
       "      <td>1</td>\n",
       "      <td>1</td>\n",
       "      <td>1</td>\n",
       "      <td>0</td>\n",
       "      <td>0</td>\n",
       "      <td>0</td>\n",
       "      <td>0</td>\n",
       "      <td>0</td>\n",
       "    </tr>\n",
       "    <tr>\n",
       "      <th>2267</th>\n",
       "      <td>0</td>\n",
       "      <td>0.388974</td>\n",
       "      <td>1</td>\n",
       "      <td>1</td>\n",
       "      <td>1</td>\n",
       "      <td>1</td>\n",
       "      <td>0</td>\n",
       "      <td>0</td>\n",
       "      <td>0</td>\n",
       "      <td>0</td>\n",
       "      <td>0</td>\n",
       "      <td>0</td>\n",
       "    </tr>\n",
       "    <tr>\n",
       "      <th>8895</th>\n",
       "      <td>1</td>\n",
       "      <td>0.449724</td>\n",
       "      <td>1</td>\n",
       "      <td>1</td>\n",
       "      <td>1</td>\n",
       "      <td>1</td>\n",
       "      <td>1</td>\n",
       "      <td>0</td>\n",
       "      <td>0</td>\n",
       "      <td>0</td>\n",
       "      <td>0</td>\n",
       "      <td>0</td>\n",
       "    </tr>\n",
       "    <tr>\n",
       "      <th>854</th>\n",
       "      <td>1</td>\n",
       "      <td>0.704011</td>\n",
       "      <td>1</td>\n",
       "      <td>1</td>\n",
       "      <td>1</td>\n",
       "      <td>1</td>\n",
       "      <td>1</td>\n",
       "      <td>1</td>\n",
       "      <td>1</td>\n",
       "      <td>1</td>\n",
       "      <td>0</td>\n",
       "      <td>0</td>\n",
       "    </tr>\n",
       "    <tr>\n",
       "      <th>3640</th>\n",
       "      <td>0</td>\n",
       "      <td>0.116810</td>\n",
       "      <td>1</td>\n",
       "      <td>1</td>\n",
       "      <td>0</td>\n",
       "      <td>0</td>\n",
       "      <td>0</td>\n",
       "      <td>0</td>\n",
       "      <td>0</td>\n",
       "      <td>0</td>\n",
       "      <td>0</td>\n",
       "      <td>0</td>\n",
       "    </tr>\n",
       "  </tbody>\n",
       "</table>\n",
       "</div>"
      ],
      "text/plain": [
       "      Converted  Churn_Prob  0.0  0.1  0.2  0.3  0.4  0.5  0.6  0.7  0.8  0.9\n",
       "160           1    0.401859    1    1    1    1    1    0    0    0    0    0\n",
       "2267          0    0.388974    1    1    1    1    0    0    0    0    0    0\n",
       "8895          1    0.449724    1    1    1    1    1    0    0    0    0    0\n",
       "854           1    0.704011    1    1    1    1    1    1    1    1    0    0\n",
       "3640          0    0.116810    1    1    0    0    0    0    0    0    0    0"
      ]
     },
     "execution_count": 550,
     "metadata": {},
     "output_type": "execute_result"
    }
   ],
   "source": [
    "numbers = [float(x)/10 for x in range(10)]\n",
    "for i in numbers:\n",
    "    y_train1[i]= y_train1['Churn_Prob'].map(lambda x: 1 if x > i else 0)\n",
    "y_train1.head()       # results for different cutoffs"
   ]
  },
  {
   "cell_type": "code",
   "execution_count": 551,
   "id": "8750afde",
   "metadata": {},
   "outputs": [
    {
     "name": "stdout",
     "output_type": "stream",
     "text": [
      "     prob  accuracy     sensi     speci\n",
      "0.0   0.0  0.380769  1.000000  0.000000\n",
      "0.1   0.1  0.442623  0.985528  0.108788\n",
      "0.2   0.2  0.725582  0.869754  0.636930\n",
      "0.3   0.3  0.761537  0.830680  0.719021\n",
      "0.4   0.4  0.784130  0.745297  0.808009\n",
      "0.5   0.5  0.770905  0.590087  0.882091\n",
      "0.6   0.6  0.762639  0.504342  0.921468\n",
      "0.7   0.7  0.748726  0.421129  0.950167\n",
      "0.8   0.8  0.729853  0.336831  0.971524\n",
      "0.9   0.9  0.669651  0.148698  0.989989\n"
     ]
    }
   ],
   "source": [
    "cutoff_df = pd.DataFrame( columns = ['prob','accuracy','sensi','speci'])\n",
    "from sklearn.metrics import confusion_matrix\n",
    "from sklearn.metrics import accuracy_score\n",
    "import sklearn.metrics as metrics\n",
    "\n",
    "num = [0.0,0.1,0.2,0.3,0.4,0.5,0.6,0.7,0.8,0.9]\n",
    "for i in num: # looping through these different cutoffs\n",
    "    cm1 = metrics.confusion_matrix(y_train.Converted, y_train1[i] ) # confusion maatrix\n",
    "    total1=sum(sum(cm1))\n",
    "    accuracy = (cm1[0,0]+cm1[1,1])/total1 # accuracy\n",
    "    \n",
    "    speci = cm1[0,0]/(cm1[0,0]+cm1[0,1]) # specificity\n",
    "    sensi = cm1[1,1]/(cm1[1,0]+cm1[1,1]) # sensitivity\n",
    "    cutoff_df.loc[i] =[ i ,accuracy,sensi,speci] # cut-off\n",
    "print(cutoff_df) "
   ]
  },
  {
   "cell_type": "code",
   "execution_count": 552,
   "id": "2916a26d",
   "metadata": {
    "scrolled": true
   },
   "outputs": [
    {
     "data": {
      "image/png": "[encoded data removed]",
      "text/plain": [
       "<Figure size 864x432 with 1 Axes>"
      ]
     },
     "metadata": {
      "needs_background": "light"
     },
     "output_type": "display_data"
    }
   ],
   "source": [
    "import seaborn as sns\n",
    "sns.set_style('whitegrid') # plotting the respective sensitivities, accuracies, and specificities\n",
    "%matplotlib inline\n",
    "cutoff_df.plot.line( x='prob', y=['accuracy','sensi','speci'], figsize = (12,6))\n",
    "plt.axvline(x = 0.37, color = 'r', linestyle = '-')\n",
    "plt.show()  # the vertical line took some trial and error"
   ]
  },
  {
   "cell_type": "code",
   "execution_count": 553,
   "id": "b8228e5b",
   "metadata": {},
   "outputs": [],
   "source": [
    "def draw_roc( actual, probs ):\n",
    "    fpr, tpr, thresholds = metrics.roc_curve( actual, probs,\n",
    "                                              drop_intermediate = False ) # false positive rate, true positive rate\n",
    "    auc_score = metrics.roc_auc_score( actual, probs )\n",
    "    plt.figure(figsize=(4, 4))\n",
    "    plt.plot( fpr, tpr, label='ROC curve (area = %0.2f)' % auc_score )\n",
    "    plt.plot([0, 1], [0, 1], 'k--')\n",
    "    plt.xlim([0.0, 1.0])\n",
    "    plt.ylim([0.0, 1.05])\n",
    "    plt.xlabel('False Positive Rate or [1 - True Negative Rate]')\n",
    "    plt.ylabel('True Positive Rate')\n",
    "    plt.title('Receiver operating characteristic example')\n",
    "    plt.legend(loc=\"lower right\")\n",
    "    plt.show()\n",
    "\n",
    "    return None"
   ]
  },
  {
   "cell_type": "code",
   "execution_count": 554,
   "id": "3e4e8bb0",
   "metadata": {},
   "outputs": [],
   "source": [
    "fpr, tpr, thresholds = metrics.roc_curve( y_train1.Converted, y_train1.Churn_Prob, drop_intermediate = False )"
   ]
  },
  {
   "cell_type": "code",
   "execution_count": 555,
   "id": "bc432938",
   "metadata": {
    "scrolled": true
   },
   "outputs": [
    {
     "data": {
      "image/png": "[encoded data removed]",
      "text/plain": [
       "<Figure size 288x288 with 1 Axes>"
      ]
     },
     "metadata": {
      "needs_background": "light"
     },
     "output_type": "display_data"
    }
   ],
   "source": [
    "draw_roc(y_train1.Converted, y_train1.Churn_Prob)\n",
    "\n",
    "# this is a farely good roc curve"
   ]
  },
  {
   "cell_type": "code",
   "execution_count": 556,
   "id": "7360fbc6",
   "metadata": {},
   "outputs": [
    {
     "data": {
      "text/html": [
       "<div>\n",
       "<style scoped>\n",
       "    .dataframe tbody tr th:only-of-type {\n",
       "        vertical-align: middle;\n",
       "    }\n",
       "\n",
       "    .dataframe tbody tr th {\n",
       "        vertical-align: top;\n",
       "    }\n",
       "\n",
       "    .dataframe thead th {\n",
       "        text-align: right;\n",
       "    }\n",
       "</style>\n",
       "<table border=\"1\" class=\"dataframe\">\n",
       "  <thead>\n",
       "    <tr style=\"text-align: right;\">\n",
       "      <th></th>\n",
       "      <th>Converted</th>\n",
       "      <th>Churn_Prob</th>\n",
       "      <th>0.0</th>\n",
       "      <th>0.1</th>\n",
       "      <th>0.2</th>\n",
       "      <th>0.3</th>\n",
       "      <th>0.4</th>\n",
       "      <th>0.5</th>\n",
       "      <th>0.6</th>\n",
       "      <th>0.7</th>\n",
       "      <th>0.8</th>\n",
       "      <th>0.9</th>\n",
       "      <th>predicted</th>\n",
       "    </tr>\n",
       "  </thead>\n",
       "  <tbody>\n",
       "    <tr>\n",
       "      <th>160</th>\n",
       "      <td>1</td>\n",
       "      <td>0.401859</td>\n",
       "      <td>1</td>\n",
       "      <td>1</td>\n",
       "      <td>1</td>\n",
       "      <td>1</td>\n",
       "      <td>1</td>\n",
       "      <td>0</td>\n",
       "      <td>0</td>\n",
       "      <td>0</td>\n",
       "      <td>0</td>\n",
       "      <td>0</td>\n",
       "      <td>1</td>\n",
       "    </tr>\n",
       "    <tr>\n",
       "      <th>2267</th>\n",
       "      <td>0</td>\n",
       "      <td>0.388974</td>\n",
       "      <td>1</td>\n",
       "      <td>1</td>\n",
       "      <td>1</td>\n",
       "      <td>1</td>\n",
       "      <td>0</td>\n",
       "      <td>0</td>\n",
       "      <td>0</td>\n",
       "      <td>0</td>\n",
       "      <td>0</td>\n",
       "      <td>0</td>\n",
       "      <td>1</td>\n",
       "    </tr>\n",
       "    <tr>\n",
       "      <th>8895</th>\n",
       "      <td>1</td>\n",
       "      <td>0.449724</td>\n",
       "      <td>1</td>\n",
       "      <td>1</td>\n",
       "      <td>1</td>\n",
       "      <td>1</td>\n",
       "      <td>1</td>\n",
       "      <td>0</td>\n",
       "      <td>0</td>\n",
       "      <td>0</td>\n",
       "      <td>0</td>\n",
       "      <td>0</td>\n",
       "      <td>1</td>\n",
       "    </tr>\n",
       "    <tr>\n",
       "      <th>854</th>\n",
       "      <td>1</td>\n",
       "      <td>0.704011</td>\n",
       "      <td>1</td>\n",
       "      <td>1</td>\n",
       "      <td>1</td>\n",
       "      <td>1</td>\n",
       "      <td>1</td>\n",
       "      <td>1</td>\n",
       "      <td>1</td>\n",
       "      <td>1</td>\n",
       "      <td>0</td>\n",
       "      <td>0</td>\n",
       "      <td>1</td>\n",
       "    </tr>\n",
       "    <tr>\n",
       "      <th>3640</th>\n",
       "      <td>0</td>\n",
       "      <td>0.116810</td>\n",
       "      <td>1</td>\n",
       "      <td>1</td>\n",
       "      <td>0</td>\n",
       "      <td>0</td>\n",
       "      <td>0</td>\n",
       "      <td>0</td>\n",
       "      <td>0</td>\n",
       "      <td>0</td>\n",
       "      <td>0</td>\n",
       "      <td>0</td>\n",
       "      <td>0</td>\n",
       "    </tr>\n",
       "  </tbody>\n",
       "</table>\n",
       "</div>"
      ],
      "text/plain": [
       "      Converted  Churn_Prob  0.0  0.1  0.2  0.3  0.4  0.5  0.6  0.7  0.8  0.9  \\\n",
       "160           1    0.401859    1    1    1    1    1    0    0    0    0    0   \n",
       "2267          0    0.388974    1    1    1    1    0    0    0    0    0    0   \n",
       "8895          1    0.449724    1    1    1    1    1    0    0    0    0    0   \n",
       "854           1    0.704011    1    1    1    1    1    1    1    1    0    0   \n",
       "3640          0    0.116810    1    1    0    0    0    0    0    0    0    0   \n",
       "\n",
       "      predicted  \n",
       "160           1  \n",
       "2267          1  \n",
       "8895          1  \n",
       "854           1  \n",
       "3640          0  "
      ]
     },
     "execution_count": 556,
     "metadata": {},
     "output_type": "execute_result"
    }
   ],
   "source": [
    "y_train1['predicted'] = y_train1.Churn_Prob.map(lambda x: 1 if x > 0.37 else 0)\n",
    "y_train1.head() # applying cutoff based on accuracy, sensitivity, and specificity"
   ]
  },
  {
   "cell_type": "code",
   "execution_count": 557,
   "id": "fc9a0808",
   "metadata": {},
   "outputs": [],
   "source": [
    "from sklearn.metrics import precision_recall_curve\n",
    "\n",
    "p, r, thresholds = precision_recall_curve(y_train1.Converted, y_train1.Churn_Prob) # precision and recall"
   ]
  },
  {
   "cell_type": "code",
   "execution_count": 558,
   "id": "abb4de87",
   "metadata": {},
   "outputs": [
    {
     "data": {
      "image/png": "[encoded data removed]",
      "text/plain": [
       "<Figure size 1152x648 with 1 Axes>"
      ]
     },
     "metadata": {
      "needs_background": "light"
     },
     "output_type": "display_data"
    }
   ],
   "source": [
    "plt.figure(figsize=(16,9))\n",
    "plt.plot(thresholds, p[:-1], \"g-\")\n",
    "plt.plot(thresholds, r[:-1], \"r-\")\n",
    "plt.axvline(x = 0.43, color = 'r', linestyle = '-') # the second cut-off\n",
    "plt.show()"
   ]
  },
  {
   "cell_type": "code",
   "execution_count": 559,
   "id": "a5990e90",
   "metadata": {},
   "outputs": [
    {
     "data": {
      "text/html": [
       "<div>\n",
       "<style scoped>\n",
       "    .dataframe tbody tr th:only-of-type {\n",
       "        vertical-align: middle;\n",
       "    }\n",
       "\n",
       "    .dataframe tbody tr th {\n",
       "        vertical-align: top;\n",
       "    }\n",
       "\n",
       "    .dataframe thead th {\n",
       "        text-align: right;\n",
       "    }\n",
       "</style>\n",
       "<table border=\"1\" class=\"dataframe\">\n",
       "  <thead>\n",
       "    <tr style=\"text-align: right;\">\n",
       "      <th></th>\n",
       "      <th>Converted</th>\n",
       "      <th>Churn_Prob</th>\n",
       "      <th>0.0</th>\n",
       "      <th>0.1</th>\n",
       "      <th>0.2</th>\n",
       "      <th>0.3</th>\n",
       "      <th>0.4</th>\n",
       "      <th>0.5</th>\n",
       "      <th>0.6</th>\n",
       "      <th>0.7</th>\n",
       "      <th>0.8</th>\n",
       "      <th>0.9</th>\n",
       "      <th>predicted</th>\n",
       "      <th>predicted2</th>\n",
       "    </tr>\n",
       "  </thead>\n",
       "  <tbody>\n",
       "    <tr>\n",
       "      <th>160</th>\n",
       "      <td>1</td>\n",
       "      <td>0.401859</td>\n",
       "      <td>1</td>\n",
       "      <td>1</td>\n",
       "      <td>1</td>\n",
       "      <td>1</td>\n",
       "      <td>1</td>\n",
       "      <td>0</td>\n",
       "      <td>0</td>\n",
       "      <td>0</td>\n",
       "      <td>0</td>\n",
       "      <td>0</td>\n",
       "      <td>1</td>\n",
       "      <td>0</td>\n",
       "    </tr>\n",
       "    <tr>\n",
       "      <th>2267</th>\n",
       "      <td>0</td>\n",
       "      <td>0.388974</td>\n",
       "      <td>1</td>\n",
       "      <td>1</td>\n",
       "      <td>1</td>\n",
       "      <td>1</td>\n",
       "      <td>0</td>\n",
       "      <td>0</td>\n",
       "      <td>0</td>\n",
       "      <td>0</td>\n",
       "      <td>0</td>\n",
       "      <td>0</td>\n",
       "      <td>1</td>\n",
       "      <td>0</td>\n",
       "    </tr>\n",
       "    <tr>\n",
       "      <th>8895</th>\n",
       "      <td>1</td>\n",
       "      <td>0.449724</td>\n",
       "      <td>1</td>\n",
       "      <td>1</td>\n",
       "      <td>1</td>\n",
       "      <td>1</td>\n",
       "      <td>1</td>\n",
       "      <td>0</td>\n",
       "      <td>0</td>\n",
       "      <td>0</td>\n",
       "      <td>0</td>\n",
       "      <td>0</td>\n",
       "      <td>1</td>\n",
       "      <td>1</td>\n",
       "    </tr>\n",
       "    <tr>\n",
       "      <th>854</th>\n",
       "      <td>1</td>\n",
       "      <td>0.704011</td>\n",
       "      <td>1</td>\n",
       "      <td>1</td>\n",
       "      <td>1</td>\n",
       "      <td>1</td>\n",
       "      <td>1</td>\n",
       "      <td>1</td>\n",
       "      <td>1</td>\n",
       "      <td>1</td>\n",
       "      <td>0</td>\n",
       "      <td>0</td>\n",
       "      <td>1</td>\n",
       "      <td>1</td>\n",
       "    </tr>\n",
       "    <tr>\n",
       "      <th>3640</th>\n",
       "      <td>0</td>\n",
       "      <td>0.116810</td>\n",
       "      <td>1</td>\n",
       "      <td>1</td>\n",
       "      <td>0</td>\n",
       "      <td>0</td>\n",
       "      <td>0</td>\n",
       "      <td>0</td>\n",
       "      <td>0</td>\n",
       "      <td>0</td>\n",
       "      <td>0</td>\n",
       "      <td>0</td>\n",
       "      <td>0</td>\n",
       "      <td>0</td>\n",
       "    </tr>\n",
       "  </tbody>\n",
       "</table>\n",
       "</div>"
      ],
      "text/plain": [
       "      Converted  Churn_Prob  0.0  0.1  0.2  0.3  0.4  0.5  0.6  0.7  0.8  0.9  \\\n",
       "160           1    0.401859    1    1    1    1    1    0    0    0    0    0   \n",
       "2267          0    0.388974    1    1    1    1    0    0    0    0    0    0   \n",
       "8895          1    0.449724    1    1    1    1    1    0    0    0    0    0   \n",
       "854           1    0.704011    1    1    1    1    1    1    1    1    0    0   \n",
       "3640          0    0.116810    1    1    0    0    0    0    0    0    0    0   \n",
       "\n",
       "      predicted  predicted2  \n",
       "160           1           0  \n",
       "2267          1           0  \n",
       "8895          1           1  \n",
       "854           1           1  \n",
       "3640          0           0  "
      ]
     },
     "execution_count": 559,
     "metadata": {},
     "output_type": "execute_result"
    }
   ],
   "source": [
    "y_train1['predicted2'] = y_train1.Churn_Prob.map(lambda x: 1 if x > 0.43 else 0)\n",
    "y_train1.head() # results based on second cut-off"
   ]
  },
  {
   "cell_type": "code",
   "execution_count": 560,
   "id": "a390bed9",
   "metadata": {},
   "outputs": [],
   "source": [
    "from sklearn.metrics import accuracy_score, classification_report"
   ]
  },
  {
   "cell_type": "markdown",
   "id": "e93a123d",
   "metadata": {},
   "source": [
    "### 3.1 Model Evaluation"
   ]
  },
  {
   "cell_type": "code",
   "execution_count": 561,
   "id": "a0d44c49",
   "metadata": {},
   "outputs": [
    {
     "name": "stdout",
     "output_type": "stream",
     "text": [
      "model scores:\n",
      "scores for cut-off1\n",
      "accuracy score: 77.09050833448133\n",
      "              precision    recall  f1-score   support\n",
      "\n",
      "           0       0.85      0.77      0.81      4495\n",
      "           1       0.67      0.77      0.72      2764\n",
      "\n",
      "    accuracy                           0.77      7259\n",
      "   macro avg       0.76      0.77      0.76      7259\n",
      "weighted avg       0.78      0.77      0.77      7259\n",
      "\n",
      "--------------------------------------------------\n",
      "scores for cut-off2\n",
      "accuracy score: 78.70230059236809\n",
      "              precision    recall  f1-score   support\n",
      "\n",
      "           0       0.83      0.83      0.83      4495\n",
      "           1       0.72      0.72      0.72      2764\n",
      "\n",
      "    accuracy                           0.79      7259\n",
      "   macro avg       0.77      0.77      0.77      7259\n",
      "weighted avg       0.79      0.79      0.79      7259\n",
      "\n",
      "--------------------------------------------------\n"
     ]
    }
   ],
   "source": [
    "lx = ['predicted', 'predicted2']\n",
    "i = 1\n",
    "print('model scores:')\n",
    "for var in lx:\n",
    "    print('scores for cut-off{}'.format(i))\n",
    "    print('accuracy score: {}'.format(accuracy_score(y_train1.Converted, y_train1[var])*100))\n",
    "    print(classification_report(y_train1.Converted, y_train1[var]))\n",
    "    print('-'*50)\n",
    "    i = i+1"
   ]
  },
  {
   "cell_type": "markdown",
   "id": "8dab5f97",
   "metadata": {},
   "source": [
    "## 4. Predictions on The test set"
   ]
  },
  {
   "cell_type": "code",
   "execution_count": 562,
   "id": "bbd69e2c",
   "metadata": {},
   "outputs": [],
   "source": [
    "X_test[col] = scaler.transform(X_test[col]) # repating the same steps for test dataset"
   ]
  },
  {
   "cell_type": "code",
   "execution_count": 563,
   "id": "dbb43a24",
   "metadata": {},
   "outputs": [],
   "source": [
    "X_test_sm = sm.add_constant(X_test)"
   ]
  },
  {
   "cell_type": "code",
   "execution_count": 564,
   "id": "95756fbf",
   "metadata": {},
   "outputs": [],
   "source": [
    "y_test_pred = res.predict(X_test_sm)"
   ]
  },
  {
   "cell_type": "code",
   "execution_count": 565,
   "id": "579348c1",
   "metadata": {},
   "outputs": [],
   "source": [
    "y_test_pred = pd.DataFrame(y_test_pred) # prediction dataset for the test set"
   ]
  },
  {
   "cell_type": "code",
   "execution_count": 566,
   "id": "d0ba867b",
   "metadata": {},
   "outputs": [],
   "source": [
    "y_test_pred['Converted'] = y_test\n",
    "y_test_pred.rename(columns = {0: 'Churn_Prob'}, inplace = True) # renaming the probability column"
   ]
  },
  {
   "cell_type": "code",
   "execution_count": 567,
   "id": "633d227c",
   "metadata": {},
   "outputs": [
    {
     "data": {
      "text/html": [
       "<div>\n",
       "<style scoped>\n",
       "    .dataframe tbody tr th:only-of-type {\n",
       "        vertical-align: middle;\n",
       "    }\n",
       "\n",
       "    .dataframe tbody tr th {\n",
       "        vertical-align: top;\n",
       "    }\n",
       "\n",
       "    .dataframe thead th {\n",
       "        text-align: right;\n",
       "    }\n",
       "</style>\n",
       "<table border=\"1\" class=\"dataframe\">\n",
       "  <thead>\n",
       "    <tr style=\"text-align: right;\">\n",
       "      <th></th>\n",
       "      <th>Churn_Prob</th>\n",
       "      <th>Converted</th>\n",
       "      <th>predicted</th>\n",
       "      <th>predicted2</th>\n",
       "    </tr>\n",
       "  </thead>\n",
       "  <tbody>\n",
       "    <tr>\n",
       "      <th>3271</th>\n",
       "      <td>0.150089</td>\n",
       "      <td>0</td>\n",
       "      <td>0</td>\n",
       "      <td>0</td>\n",
       "    </tr>\n",
       "    <tr>\n",
       "      <th>1490</th>\n",
       "      <td>0.627465</td>\n",
       "      <td>1</td>\n",
       "      <td>1</td>\n",
       "      <td>1</td>\n",
       "    </tr>\n",
       "    <tr>\n",
       "      <th>7936</th>\n",
       "      <td>0.136812</td>\n",
       "      <td>0</td>\n",
       "      <td>0</td>\n",
       "      <td>0</td>\n",
       "    </tr>\n",
       "    <tr>\n",
       "      <th>4216</th>\n",
       "      <td>0.875268</td>\n",
       "      <td>1</td>\n",
       "      <td>1</td>\n",
       "      <td>1</td>\n",
       "    </tr>\n",
       "    <tr>\n",
       "      <th>3830</th>\n",
       "      <td>0.108043</td>\n",
       "      <td>0</td>\n",
       "      <td>0</td>\n",
       "      <td>0</td>\n",
       "    </tr>\n",
       "  </tbody>\n",
       "</table>\n",
       "</div>"
      ],
      "text/plain": [
       "      Churn_Prob  Converted  predicted  predicted2\n",
       "3271    0.150089          0          0           0\n",
       "1490    0.627465          1          1           1\n",
       "7936    0.136812          0          0           0\n",
       "4216    0.875268          1          1           1\n",
       "3830    0.108043          0          0           0"
      ]
     },
     "execution_count": 567,
     "metadata": {},
     "output_type": "execute_result"
    }
   ],
   "source": [
    "y_test_pred['predicted'] = y_test_pred.Churn_Prob.map(lambda x: 1 if x > 0.37 else 0) # applying first cut-off\n",
    "y_test_pred['predicted2'] = y_test_pred.Churn_Prob.map(lambda x: 1 if x > 0.43 else 0) # applying second cut-off\n",
    "y_test_pred.head()"
   ]
  },
  {
   "cell_type": "code",
   "execution_count": 568,
   "id": "28eb060c",
   "metadata": {},
   "outputs": [
    {
     "name": "stdout",
     "output_type": "stream",
     "text": [
      "model scores:\n",
      "scores for cut-off1\n",
      "accuracy score: 77.1900826446281\n",
      "              precision    recall  f1-score   support\n",
      "\n",
      "           0       0.85      0.78      0.81      1144\n",
      "           1       0.67      0.76      0.71       671\n",
      "\n",
      "    accuracy                           0.77      1815\n",
      "   macro avg       0.76      0.77      0.76      1815\n",
      "weighted avg       0.78      0.77      0.77      1815\n",
      "\n",
      "--------------------------------------------------\n",
      "scores for cut-off2\n",
      "accuracy score: 78.56749311294766\n",
      "              precision    recall  f1-score   support\n",
      "\n",
      "           0       0.83      0.84      0.83      1144\n",
      "           1       0.71      0.70      0.71       671\n",
      "\n",
      "    accuracy                           0.79      1815\n",
      "   macro avg       0.77      0.77      0.77      1815\n",
      "weighted avg       0.78      0.79      0.79      1815\n",
      "\n",
      "--------------------------------------------------\n"
     ]
    }
   ],
   "source": [
    "lx = ['predicted', 'predicted2']\n",
    "i = 1\n",
    "print('model scores:')\n",
    "for var in lx:\n",
    "    print('scores for cut-off{}'.format(i))\n",
    "    print('accuracy score: {}'.format(accuracy_score(y_test_pred.Converted, y_test_pred[var])*100))\n",
    "    print(classification_report(y_test_pred.Converted, y_test_pred[var]))\n",
    "    print('-'*50)\n",
    "    i = i+1"
   ]
  },
  {
   "cell_type": "code",
   "execution_count": 569,
   "id": "1abbf053",
   "metadata": {},
   "outputs": [],
   "source": [
    "confusion1 = metrics.confusion_matrix(y_test_pred.Converted, y_test_pred.predicted ) # confusion matrix for first cutoff\n",
    "confusion2 = metrics.confusion_matrix(y_test_pred.Converted, y_test_pred.predicted2) # confusion matrixxx for second cutoff"
   ]
  },
  {
   "cell_type": "code",
   "execution_count": 570,
   "id": "d0d952a3",
   "metadata": {},
   "outputs": [],
   "source": [
    "TP1 = confusion1[1,1] # true positive \n",
    "TN1 = confusion1[0,0] # true negatives\n",
    "FP1 = confusion1[0,1] # false positives\n",
    "FN1 = confusion1[1,0] # false negatives\n",
    "                                           # first cut-off\n",
    "senx = TP1 / float(TP1+FN1)\n",
    "spefx = TN1 / float(TN1+FP1)\n",
    "FPRx = 1 - spefx\n",
    "precision1 = TP1/float(TP1+FP1)\n",
    "                                        "
   ]
  },
  {
   "cell_type": "code",
   "execution_count": 571,
   "id": "12e31fe9",
   "metadata": {},
   "outputs": [],
   "source": [
    "TP2 = confusion2[1,1] # true positive \n",
    "TN2 = confusion2[0,0] # true negatives\n",
    "FP2 = confusion2[0,1] # false positives\n",
    "FN2 = confusion2[1,0] # false negatives\n",
    "                                           # second cuto_off\n",
    "seny = TP2 / float(TP2+FN2)\n",
    "spefy = TN2 / float(TN2+FP2)\n",
    "FPRy = 1 - spefy\n",
    "precision2 = TP2/float(TP2+FP2)"
   ]
  },
  {
   "cell_type": "code",
   "execution_count": 572,
   "id": "8e87b8ea",
   "metadata": {},
   "outputs": [
    {
     "name": "stdout",
     "output_type": "stream",
     "text": [
      "Recall, True Positive Rate, and Sensitivity of cutoff 1\n",
      "    0.7630402384500745\n",
      "specificity of the model\n",
      "    0.7770979020979021\n",
      "False Positive Rate\n",
      "    0.22290209790209792\n",
      "Precision of the model\n",
      "    0.6675358539765319    \n",
      "--------------------------------------------------\n",
      "Recall, True Positive Rate, and Sensitivity of cutoff 2\n",
      "    0.7004470938897168\n",
      "specificity of the model\n",
      "    0.8356643356643356\n",
      "False Positive Rate\n",
      "    0.16433566433566438\n",
      "Precision of the model\n",
      "    0.7142857142857143    \n",
      "--------------------------------------------------\n"
     ]
    }
   ],
   "source": [
    "# printing the different scores\n",
    "\n",
    "\n",
    "print('Recall, True Positive Rate, and Sensitivity of cutoff 1\\n    {}'.format(senx))\n",
    "print('specificity of the model\\n    {}'.format(spefx))\n",
    "print('False Positive Rate\\n    {}'.format(FPRx))\n",
    "print('Precision of the model\\n    {}    '.format(precision1))\n",
    "print('-'*50)\n",
    "print('Recall, True Positive Rate, and Sensitivity of cutoff 2\\n    {}'.format(seny))\n",
    "print('specificity of the model\\n    {}'.format(spefy))\n",
    "print('False Positive Rate\\n    {}'.format(FPRy))\n",
    "print('Precision of the model\\n    {}    '.format(precision2))\n",
    "print('-'*50)"
   ]
  },
  {
   "cell_type": "markdown",
   "id": "084c4ed8",
   "metadata": {},
   "source": [
    "#### The second cutoff performs better on the test set, although their performance on the train set is pretty similar"
   ]
  }
 ],
 "metadata": {
  "kernelspec": {
   "display_name": "Python 3 (ipykernel)",
   "language": "python",
   "name": "python3"
  },
  "language_info": {
   "codemirror_mode": {
    "name": "ipython",
    "version": 3
   },
   "file_extension": ".py",
   "mimetype": "text/x-python",
   "name": "python",
   "nbconvert_exporter": "python",
   "pygments_lexer": "ipython3",
   "version": "3.9.12"
  }
 },
 "nbformat": 4,
 "nbformat_minor": 5
}
